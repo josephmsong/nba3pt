{
 "metadata": {
  "name": "",
  "signature": "sha256:966a2821580161b790555ce27e36f5c121be7be55df7c5ca18104e7d18676952"
 },
 "nbformat": 3,
 "nbformat_minor": 0,
 "worksheets": [
  {
   "cells": [
    {
     "cell_type": "heading",
     "level": 1,
     "metadata": {},
     "source": [
      "<center>Predicting NBA 3 PT Field Goal Percentage for the 2014-2015 Season</center>"
     ]
    },
    {
     "cell_type": "markdown",
     "metadata": {},
     "source": [
      "<center>\n",
      "<img src=\"http://goodbysilverstein.com/public/upload/boxes/952x535/528538fb32f48.jpg\">\n",
      "</center>"
     ]
    },
    {
     "cell_type": "heading",
     "level": 3,
     "metadata": {},
     "source": [
      "<center> <b> Joseph Song </b> </center>"
     ]
    },
    {
     "cell_type": "heading",
     "level": 2,
     "metadata": {},
     "source": [
      "Overview and Approach"
     ]
    },
    {
     "cell_type": "markdown",
     "metadata": {},
     "source": [
      "In order to predict the three point percentage for an individual player, the first thing that comes to mind is the historical data about the success he had when shooting the three ball. This would involve their career numbers as good shooters tend to stay good shooters and bad shooters tend to stay bad shooters from beyond the arc (field goal percentage has a different story). In order to account for those shooters who improved their three point shooting (such as players like Kawhi Leonard and Jimmy Butler who drastically improved as the seasons went by) I also incorporated the previous year to account for those players who had made an improvement last season. Free throw percentage also tends to mark whether or not a player is a good shooter or not which I assumed to have a correlation with his ability to make the three point field goal. Body size such as height and weight also seemed like a good indicator of whether or not a player could shoot a three as centers and power forwards are much less likely to be good shooters than point guards or shooting guards with forwards somewhere in the middle."
     ]
    },
    {
     "cell_type": "heading",
     "level": 2,
     "metadata": {},
     "source": [
      "Generating ID's and Player Names from API"
     ]
    },
    {
     "cell_type": "markdown",
     "metadata": {},
     "source": [
      "I used the CBS Sports API to scrape the ID's and player names from CBSSports.net in preparation to scrape off the stats off of all the individual player's pages."
     ]
    },
    {
     "cell_type": "code",
     "collapsed": false,
     "input": [
      "# import necessary libraries\n",
      "import pandas as pd\n",
      "import requests\n",
      "import json\n",
      "\n",
      "# scraped from CBS Sports API\n",
      "url = 'http://api.cbssports.com/fantasy/players/list?version=3.0&SPORT=basketball&response_format=JSON'\n",
      "r = requests.get(url)\n",
      "r = json.loads(r.text)['body']['players']\n",
      "\n",
      "identification = [];\n",
      "firstname = [];\n",
      "lastname = [];\n",
      "\n",
      "for player in r:\n",
      "    identification.append(player['id'])\n",
      "    firstname.append(player['firstname'])\n",
      "    lastname.append(player['lastname'])\n",
      "\n",
      "dic = {'firstname': firstname, 'lastname': lastname}\n",
      "players = pd.DataFrame(dic, index = identification)\n",
      "players.index.name = 'id'\n",
      "players.to_csv(\"players.csv\")\n"
     ],
     "language": "python",
     "metadata": {},
     "outputs": [],
     "prompt_number": 4
    },
    {
     "cell_type": "heading",
     "level": 2,
     "metadata": {},
     "source": [
      "Scraping Possible Predictors of 3 PT Shooting Percentage"
     ]
    },
    {
     "cell_type": "markdown",
     "metadata": {},
     "source": [
      "We start off by scraping anything that I thought would have an effect on three point shooting using Python library BeautifulSoup. Statistics that predict three point percentage involve basic body statistics along with shooting percentages from their careers and the previous season. Rookies would use their previous college season as an indicator of success. In order to create a model for the 2014 season, I created a model using the 2013 season and therefore scraped all the shooting percentages for the 2012 and 2013 seasons. (Same rules apply where the 2012 seasons for sophomores would be their college season, and dropping rookies for the initial model building)"
     ]
    },
    {
     "cell_type": "code",
     "collapsed": false,
     "input": [
      "# import necessary libraries\n",
      "import pandas as pd\n",
      "import requests0 as requests\n",
      "import urllib2\n",
      "from bs4 import BeautifulSoup\n",
      "import re\n",
      "\n",
      "df = pd.read_csv(\"players.csv\")\n",
      "\n",
      "BASE_URL = \"http://www.cbssports.com/nba/players/playerpage/{0}/{1}-{2}\"\n",
      "\n",
      "number_of_players = sum(1 for row in df['id'])\n",
      "\n",
      "# all the different statistics scraped\n",
      "identification = []\n",
      "identification2 = []\n",
      "identification3 = []\n",
      "season = []\n",
      "gamesplayed = []\n",
      "minutes = []\n",
      "fg = []\n",
      "fga = []\n",
      "fgperc = []\n",
      "fg3 = []\n",
      "fg3a = []\n",
      "fg3perc = []\n",
      "ftperc = []\n",
      "ppg = []\n",
      "bodysize = []\n",
      "age = []\n",
      "currentteam = []\n",
      "experience = []\n",
      "colseason = []\n",
      "colgamesplayed = []\n",
      "colminutes = []\n",
      "colfg = []\n",
      "colfga = []\n",
      "colfgperc = []\n",
      "colfg3 = []\n",
      "colfg3a = []\n",
      "colfg3perc = []\n",
      "colftperc = []\n",
      "colppg = []\n",
      "\n",
      "# checking to see if it follows this format\n",
      "r = re.compile('....-..')\n",
      "q = re.compile('.....')\n",
      "\n",
      "for x in range(0, number_of_players):\n",
      "    url = BASE_URL.format(df['id'][x], df['firstname'][x], df['lastname'][x])\n",
      "    print url\n",
      "    try:\n",
      "        soup = BeautifulSoup(urllib2.urlopen(url).read())\n",
      "        # accounting for Jermaine O'Neal's player page to be a little bit different from everyone else's\n",
      "        table = soup.find_all(\"table\", {\"class\":\"data\"})[4 if x != 505 else 3].find_all(\"tr\")[2:]\n",
      "        for row in table:\n",
      "            tds = row(\"td\")\n",
      "            if r.match(tds[0].string) or q.match(tds[0].string):\n",
      "                identification.append(df['id'][x])\n",
      "                season.append(tds[0].string)\n",
      "                gamesplayed.append(tds[2].string)\n",
      "                minutes.append(tds[3].string)\n",
      "                fg.append(tds[4].string)\n",
      "                fga.append(tds[5].string)\n",
      "                fgperc.append(tds[6].string)\n",
      "                fg3.append(tds[7].string)\n",
      "                fg3a.append(tds[8].string)\n",
      "                fg3perc.append(tds[9].string)\n",
      "                ftperc.append(tds[12].string)\n",
      "                ppg.append(tds[14].string)\n",
      "        table2 = soup.find_all(\"div\", {\"class\" : \"featureComponent stdPad mBottom10\"})\n",
      "        for row in table2:\n",
      "            tds = row(\"dd\")\n",
      "            identification2.append(df['id'][x])\n",
      "            bodysize.append(tds[0].text)\n",
      "            age.append(tds[2].text)\n",
      "            currentteam.append(tds[4].text)\n",
      "            experience.append(tds[6].text)\n",
      "            \n",
      "            # accounting for some sophomores having made the postseason in their careers\n",
      "            if tds[6].text == '0' or '1':\n",
      "                dummy = soup.find_all(\"table\", {\"class\":\"data\"})[10].find_all(\"tr\")[0:1]\n",
      "                dummy = dummy[0].find(\"td\")\n",
      "                table3 = soup.find_all(\"table\", {\"class\":\"data\"})[9 if dummy.string != 'College Career Shooting Stats' else 10].find_all(\"tr\")[2:]\n",
      "                for row in table3:\n",
      "                    tds = row(\"td\")\n",
      "                    if r.match(tds[0].string) or q.match(tds[0].string):\n",
      "                        identification3.append(df['id'][x])\n",
      "                        colseason.append(tds[0].string)\n",
      "                        colgamesplayed.append(tds[2].string)\n",
      "                        colminutes.append(tds[3].string)\n",
      "                        colfg.append(tds[4].string)\n",
      "                        colfga.append(tds[5].string)\n",
      "                        colfgperc.append(tds[6].string)\n",
      "                        colfg3.append(tds[7].string)\n",
      "                        colfg3a.append(tds[8].string)\n",
      "                        colfg3perc.append(tds[9].string)\n",
      "                        colftperc.append(tds[12].string)\n",
      "                        colppg.append(tds[14].string)\n",
      "    except:\n",
      "        pass\n",
      "\n",
      "number_of_rows = sum(1 for row in season)\n",
      "\n",
      "dic = {'id': identification, 'gamesplayed': gamesplayed, 'minutes': minutes, 'fg': fg, 'fga':fga, 'fgperc':fgperc, 'fg3': fg3, 'fg3a':fg3a, 'fg3perc': fg3perc, 'ftperc':ftperc, 'ppg':ppg }\n",
      "shooting = pd.DataFrame(dic, index = season)\n",
      "shooting.index.name = 'year'\n",
      "shooting.to_csv(\"shooting.csv\")\n",
      "\n",
      "dic2 = {'id': identification2, 'bodysize': bodysize, 'age': age, 'currentteam': currentteam, 'experience': experience}\n",
      "info = pd.DataFrame(dic2, index = identification2)\n",
      "info.index.name = 'id'\n",
      "playerinfo = pd.merge(df, info)\n",
      "playerinfo.to_csv(\"playerinfo.csv\")\n",
      "\n",
      "dic3 = {'id': identification3, 'gamesplayed': colgamesplayed, 'minutes': colminutes, 'fg': colfg, 'fga':colfga, 'fgperc':colfgperc, 'fg3': colfg3, 'fg3a':colfg3a, 'fg3perc': colfg3perc, 'ftperc':colftperc, 'ppg':colppg }\n",
      "college = pd.DataFrame(dic3, index = colseason)\n",
      "college.index.name = 'year'\n",
      "college.to_csv(\"college.csv\")\n",
      "\n",
      "# kept a list of urls so I could keep track of how far the code had gotten"
     ],
     "language": "python",
     "metadata": {},
     "outputs": [
      {
       "output_type": "stream",
       "stream": "stdout",
       "text": [
        "http://www.cbssports.com/nba/players/playerpage/1992779/Quincy-Acy\n",
        "http://www.cbssports.com/nba/players/playerpage/2135514/Jordan-Adams"
       ]
      },
      {
       "output_type": "stream",
       "stream": "stdout",
       "text": [
        "\n",
        "http://www.cbssports.com/nba/players/playerpage/2067654/Steven-Adams"
       ]
      },
      {
       "output_type": "stream",
       "stream": "stdout",
       "text": [
        "\n",
        "http://www.cbssports.com/nba/players/playerpage/1777108/Jeff-Adrien"
       ]
      },
      {
       "output_type": "stream",
       "stream": "stdout",
       "text": [
        "\n",
        "http://www.cbssports.com/nba/players/playerpage/1231853/Arron-Afflalo"
       ]
      },
      {
       "output_type": "stream",
       "stream": "stdout",
       "text": [
        "\n",
        "http://www.cbssports.com/nba/players/playerpage/1622490/Alexis-Ajinca"
       ]
      },
      {
       "output_type": "stream",
       "stream": "stdout",
       "text": [
        "\n",
        "http://www.cbssports.com/nba/players/playerpage/2017290/Josh-Akognon"
       ]
      },
      {
       "output_type": "stream",
       "stream": "stdout",
       "text": [
        "\n",
        "http://www.cbssports.com/nba/players/playerpage/1755217/Solomon-Alabi"
       ]
      },
      {
       "output_type": "stream",
       "stream": "stdout",
       "text": [
        "\n",
        "http://www.cbssports.com/nba/players/playerpage/1992780/Furkan-Aldemir"
       ]
      },
      {
       "output_type": "stream",
       "stream": "stdout",
       "text": [
        "\n",
        "http://www.cbssports.com/nba/players/playerpage/1755171/Cole-Aldrich"
       ]
      },
      {
       "output_type": "stream",
       "stream": "stdout",
       "text": [
        "\n",
        "http://www.cbssports.com/nba/players/playerpage/1113136/LaMarcus-Aldridge"
       ]
      },
      {
       "output_type": "stream",
       "stream": "stdout",
       "text": [
        "\n",
        "http://www.cbssports.com/nba/players/playerpage/1622491/Joe-Alexander"
       ]
      },
      {
       "output_type": "stream",
       "stream": "stdout",
       "text": [
        "\n",
        "http://www.cbssports.com/nba/players/playerpage/1333806/Lavoy-Allen"
       ]
      },
      {
       "output_type": "stream",
       "stream": "stdout",
       "text": [
        "\n",
        "http://www.cbssports.com/nba/players/playerpage/6457/Ray-Allen"
       ]
      },
      {
       "output_type": "stream",
       "stream": "stdout",
       "text": [
        "\n",
        "http://www.cbssports.com/nba/players/playerpage/498270/Tony-Allen"
       ]
      },
      {
       "output_type": "stream",
       "stream": "stdout",
       "text": [
        "\n",
        "http://www.cbssports.com/nba/players/playerpage/1755172/Al-Farouq-Aminu"
       ]
      },
      {
       "output_type": "stream",
       "stream": "stdout",
       "text": [
        "\n",
        "http://www.cbssports.com/nba/players/playerpage/1116106/Lou-Amundson"
       ]
      },
      {
       "output_type": "stream",
       "stream": "stdout",
       "text": [
        "\n",
        "http://www.cbssports.com/nba/players/playerpage/283504/Chris-Andersen"
       ]
      },
      {
       "output_type": "stream",
       "stream": "stdout",
       "text": [
        "\n",
        "http://www.cbssports.com/nba/players/playerpage/561604/Alan-Anderson"
       ]
      },
      {
       "output_type": "stream",
       "stream": "stdout",
       "text": [
        "\n",
        "http://www.cbssports.com/nba/players/playerpage/1755173/James-Anderson"
       ]
      },
      {
       "output_type": "stream",
       "stream": "stdout",
       "text": [
        "\n",
        "http://www.cbssports.com/nba/players/playerpage/2135515/Kyle-Anderson"
       ]
      },
      {
       "output_type": "stream",
       "stream": "stdout",
       "text": [
        "\n",
        "http://www.cbssports.com/nba/players/playerpage/1622525/Ryan-Anderson"
       ]
      },
      {
       "output_type": "stream",
       "stream": "stdout",
       "text": [
        "\n",
        "http://www.cbssports.com/nba/players/playerpage/2067655/Giannis-Antetokounmpo"
       ]
      },
      {
       "output_type": "stream",
       "stream": "stdout",
       "text": [
        "\n",
        "http://www.cbssports.com/nba/players/playerpage/2135516/Thanasis-Antetokounmpo"
       ]
      },
      {
       "output_type": "stream",
       "stream": "stdout",
       "text": [
        "\n",
        "http://www.cbssports.com/nba/players/playerpage/400526/Carmelo-Anthony"
       ]
      },
      {
       "output_type": "stream",
       "stream": "stdout",
       "text": [
        "\n",
        "http://www.cbssports.com/nba/players/playerpage/1232033/Joel-Anthony"
       ]
      },
      {
       "output_type": "stream",
       "stream": "stdout",
       "text": [
        "\n",
        "http://www.cbssports.com/nba/players/playerpage/2074416/Pero-Antic"
       ]
      },
      {
       "output_type": "stream",
       "stream": "stdout",
       "text": [
        "\n",
        "http://www.cbssports.com/nba/players/playerpage/2147654/Keith-Appling"
       ]
      },
      {
       "output_type": "stream",
       "stream": "stdout",
       "text": [
        "\n",
        "http://www.cbssports.com/nba/players/playerpage/498272/Trevor-Ariza"
       ]
      },
      {
       "output_type": "stream",
       "stream": "stdout",
       "text": [
        "\n",
        "http://www.cbssports.com/nba/players/playerpage/1113137/Hilton-Armstrong"
       ]
      },
      {
       "output_type": "stream",
       "stream": "stdout",
       "text": [
        "\n",
        "http://www.cbssports.com/nba/players/playerpage/1622526/Darrell-Arthur"
       ]
      },
      {
       "output_type": "stream",
       "stream": "stdout",
       "text": [
        "\n",
        "http://www.cbssports.com/nba/players/playerpage/1622527/Omer-Asik"
       ]
      },
      {
       "output_type": "stream",
       "stream": "stdout",
       "text": [
        "\n",
        "http://www.cbssports.com/nba/players/playerpage/1622492/D.J.-Augustin"
       ]
      },
      {
       "output_type": "stream",
       "stream": "stdout",
       "text": [
        "\n",
        "http://www.cbssports.com/nba/players/playerpage/1930108/Gustavo-Ayon"
       ]
      },
      {
       "output_type": "stream",
       "stream": "stdout",
       "text": [
        "\n",
        "http://www.cbssports.com/nba/players/playerpage/1685265/Jeff-Ayres"
       ]
      },
      {
       "output_type": "stream",
       "stream": "stdout",
       "text": [
        "\n",
        "http://www.cbssports.com/nba/players/playerpage/2103469/Chris-Babb"
       ]
      },
      {
       "output_type": "stream",
       "stream": "stdout",
       "text": [
        "\n",
        "http://www.cbssports.com/nba/players/playerpage/1755174/Luke-Babbitt"
       ]
      },
      {
       "output_type": "stream",
       "stream": "stdout",
       "text": [
        "\n",
        "http://www.cbssports.com/nba/players/playerpage/2135517/Cameron-Bairstow"
       ]
      },
      {
       "output_type": "stream",
       "stream": "stdout",
       "text": [
        "\n",
        "http://www.cbssports.com/nba/players/playerpage/1113139/Renaldo-Balkman"
       ]
      },
      {
       "output_type": "stream",
       "stream": "stdout",
       "text": [
        "\n",
        "http://www.cbssports.com/nba/players/playerpage/1231855/Stanko-Barac"
       ]
      },
      {
       "output_type": "stream",
       "stream": "stdout",
       "text": [
        "\n",
        "http://www.cbssports.com/nba/players/playerpage/400530/Leandro-Barbosa"
       ]
      },
      {
       "output_type": "stream",
       "stream": "stdout",
       "text": [
        "\n",
        "http://www.cbssports.com/nba/players/playerpage/1117748/J.J.-Barea"
       ]
      },
      {
       "output_type": "stream",
       "stream": "stdout",
       "text": [
        "\n",
        "http://www.cbssports.com/nba/players/playerpage/1113140/Andrea-Bargnani"
       ]
      },
      {
       "output_type": "stream",
       "stream": "stdout",
       "text": [
        "\n",
        "http://www.cbssports.com/nba/players/playerpage/1992781/Harrison-Barnes"
       ]
      },
      {
       "output_type": "stream",
       "stream": "stdout",
       "text": [
        "\n",
        "http://www.cbssports.com/nba/players/playerpage/307816/Matt-Barnes"
       ]
      },
      {
       "output_type": "stream",
       "stream": "stdout",
       "text": [
        "\n",
        "http://www.cbssports.com/nba/players/playerpage/523580/Andre-Barrett"
       ]
      },
      {
       "output_type": "stream",
       "stream": "stdout",
       "text": [
        "\n",
        "http://www.cbssports.com/nba/players/playerpage/523581/Earl-Barron"
       ]
      },
      {
       "output_type": "stream",
       "stream": "stdout",
       "text": [
        "\n",
        "http://www.cbssports.com/nba/players/playerpage/1992782/Will-Barton"
       ]
      },
      {
       "output_type": "stream",
       "stream": "stdout",
       "text": [
        "\n",
        "http://www.cbssports.com/nba/players/playerpage/555935/Brandon-Bass"
       ]
      },
      {
       "output_type": "stream",
       "stream": "stdout",
       "text": [
        "\n",
        "http://www.cbssports.com/nba/players/playerpage/2147833/Kadeem-Batts"
       ]
      },
      {
       "output_type": "stream",
       "stream": "stdout",
       "text": [
        "\n",
        "http://www.cbssports.com/nba/players/playerpage/1622493/Nicolas-Batum"
       ]
      },
      {
       "output_type": "stream",
       "stream": "stdout",
       "text": [
        "\n",
        "http://www.cbssports.com/nba/players/playerpage/1622494/Jerryd-Bayless"
       ]
      },
      {
       "output_type": "stream",
       "stream": "stdout",
       "text": [
        "\n",
        "http://www.cbssports.com/nba/players/playerpage/2039947/Aron-Baynes"
       ]
      },
      {
       "output_type": "stream",
       "stream": "stdout",
       "text": [
        "\n",
        "http://www.cbssports.com/nba/players/playerpage/1998520/Kent-Bazemore"
       ]
      },
      {
       "output_type": "stream",
       "stream": "stdout",
       "text": [
        "\n",
        "http://www.cbssports.com/nba/players/playerpage/1992783/Bradley-Beal"
       ]
      },
      {
       "output_type": "stream",
       "stream": "stdout",
       "text": [
        "\n",
        "http://www.cbssports.com/nba/players/playerpage/1622495/Michael-Beasley"
       ]
      },
      {
       "output_type": "stream",
       "stream": "stdout",
       "text": [
        "\n",
        "http://www.cbssports.com/nba/players/playerpage/1231856/Marco-Belinelli"
       ]
      },
      {
       "output_type": "stream",
       "stream": "stdout",
       "text": [
        "\n",
        "http://www.cbssports.com/nba/players/playerpage/2155402/Jerrelle-Benimon"
       ]
      },
      {
       "output_type": "stream",
       "stream": "stdout",
       "text": [
        "\n",
        "http://www.cbssports.com/nba/players/playerpage/2067656/Anthony-Bennett"
       ]
      },
      {
       "output_type": "stream",
       "stream": "stdout",
       "text": [
        "\n",
        "http://www.cbssports.com/nba/players/playerpage/1685200/Patrick-Beverley"
       ]
      },
      {
       "output_type": "stream",
       "stream": "stdout",
       "text": [
        "\n",
        "http://www.cbssports.com/nba/players/playerpage/2144570/Sim-Bhullar"
       ]
      },
      {
       "output_type": "stream",
       "stream": "stdout",
       "text": [
        "\n",
        "http://www.cbssports.com/nba/players/playerpage/498273/Andris-Biedrins"
       ]
      },
      {
       "output_type": "stream",
       "stream": "stdout",
       "text": [
        "\n",
        "http://www.cbssports.com/nba/players/playerpage/6480/Chauncey-Billups"
       ]
      },
      {
       "output_type": "stream",
       "stream": "stdout",
       "text": [
        "\n",
        "http://www.cbssports.com/nba/players/playerpage/2146833/Khem-Birch"
       ]
      },
      {
       "output_type": "stream",
       "stream": "stdout",
       "text": [
        "\n",
        "http://www.cbssports.com/nba/players/playerpage/1831126/Bismack-Biyombo"
       ]
      },
      {
       "output_type": "stream",
       "stream": "stdout",
       "text": [
        "\n",
        "http://www.cbssports.com/nba/players/playerpage/1755218/Nemanja-Bjelica"
       ]
      },
      {
       "output_type": "stream",
       "stream": "stdout",
       "text": [
        "\n",
        "http://www.cbssports.com/nba/players/playerpage/2155446/Tarik-Black"
       ]
      },
      {
       "output_type": "stream",
       "stream": "stdout",
       "text": [
        "\n",
        "http://www.cbssports.com/nba/players/playerpage/1685241/DeJuan-Blair"
       ]
      },
      {
       "output_type": "stream",
       "stream": "stdout",
       "text": [
        "\n",
        "http://www.cbssports.com/nba/players/playerpage/400534/Steve-Blake"
       ]
      },
      {
       "output_type": "stream",
       "stream": "stdout",
       "text": [
        "\n",
        "http://www.cbssports.com/nba/players/playerpage/555936/Andray-Blatche"
       ]
      },
      {
       "output_type": "stream",
       "stream": "stdout",
       "text": [
        "\n",
        "http://www.cbssports.com/nba/players/playerpage/1755175/Eric-Bledsoe"
       ]
      },
      {
       "output_type": "stream",
       "stream": "stdout",
       "text": [
        "\n",
        "http://www.cbssports.com/nba/players/playerpage/2101540/Vander-Blue"
       ]
      },
      {
       "output_type": "stream",
       "stream": "stdout",
       "text": [
        "\n",
        "http://www.cbssports.com/nba/players/playerpage/400535/Keith-Bogans"
       ]
      },
      {
       "output_type": "stream",
       "stream": "stdout",
       "text": [
        "\n",
        "http://www.cbssports.com/nba/players/playerpage/2135518/Bogdan-Bogdanovic"
       ]
      },
      {
       "output_type": "stream",
       "stream": "stdout",
       "text": [
        "\n",
        "http://www.cbssports.com/nba/players/playerpage/1831131/Bojan-Bogdanovic"
       ]
      },
      {
       "output_type": "stream",
       "stream": "stdout",
       "text": [
        "\n",
        "http://www.cbssports.com/nba/players/playerpage/555937/Andrew-Bogut"
       ]
      },
      {
       "output_type": "stream",
       "stream": "stdout",
       "text": [
        "\n",
        "http://www.cbssports.com/nba/players/playerpage/400536/Matt-Bonner"
       ]
      },
      {
       "output_type": "stream",
       "stream": "stdout",
       "text": [
        "\n",
        "http://www.cbssports.com/nba/players/playerpage/1755176/Trevor-Booker"
       ]
      },
      {
       "output_type": "stream",
       "stream": "stdout",
       "text": [
        "\n",
        "http://www.cbssports.com/nba/players/playerpage/307818/Carlos-Boozer"
       ]
      },
      {
       "output_type": "stream",
       "stream": "stdout",
       "text": [
        "\n",
        "http://www.cbssports.com/nba/players/playerpage/400537/Chris-Bosh"
       ]
      },
      {
       "output_type": "stream",
       "stream": "stdout",
       "text": [
        "\n",
        "http://www.cbssports.com/nba/players/playerpage/2093473/Dee-Bost"
       ]
      },
      {
       "output_type": "stream",
       "stream": "stdout",
       "text": [
        "\n",
        "http://www.cbssports.com/nba/players/playerpage/2155096/Josh-Bostic"
       ]
      },
      {
       "output_type": "stream",
       "stream": "stdout",
       "text": [
        "\n",
        "http://www.cbssports.com/nba/players/playerpage/1755219/Avery-Bradley"
       ]
      },
      {
       "output_type": "stream",
       "stream": "stdout",
       "text": [
        "\n",
        "http://www.cbssports.com/nba/players/playerpage/139052/Elton-Brand"
       ]
      },
      {
       "output_type": "stream",
       "stream": "stdout",
       "text": [
        "\n",
        "http://www.cbssports.com/nba/players/playerpage/1231857/Corey-Brewer"
       ]
      },
      {
       "output_type": "stream",
       "stream": "stdout",
       "text": [
        "\n",
        "http://www.cbssports.com/nba/players/playerpage/1113144/Ronnie-Brewer"
       ]
      },
      {
       "output_type": "stream",
       "stream": "stdout",
       "text": [
        "\n",
        "http://www.cbssports.com/nba/players/playerpage/1231858/Aaron-Brooks"
       ]
      },
      {
       "output_type": "stream",
       "stream": "stdout",
       "text": [
        "\n",
        "http://www.cbssports.com/nba/players/playerpage/1333596/MarShon-Brooks"
       ]
      },
      {
       "output_type": "stream",
       "stream": "stdout",
       "text": [
        "\n",
        "http://www.cbssports.com/nba/players/playerpage/2135519/Alec-Brown"
       ]
      },
      {
       "output_type": "stream",
       "stream": "stdout",
       "text": [
        "\n",
        "http://www.cbssports.com/nba/players/playerpage/2147655/Jabari-Brown"
       ]
      },
      {
       "output_type": "stream",
       "stream": "stdout",
       "text": [
        "\n",
        "http://www.cbssports.com/nba/players/playerpage/240272/Kwame-Brown"
       ]
      },
      {
       "output_type": "stream",
       "stream": "stdout",
       "text": [
        "\n",
        "http://www.cbssports.com/nba/players/playerpage/2067657/Lorenzo-Brown"
       ]
      },
      {
       "output_type": "stream",
       "stream": "stdout",
       "text": [
        "\n",
        "http://www.cbssports.com/nba/players/playerpage/2135520/Markel-Brown"
       ]
      },
      {
       "output_type": "stream",
       "stream": "stdout",
       "text": [
        "\n",
        "http://www.cbssports.com/nba/players/playerpage/1113145/Shannon-Brown"
       ]
      },
      {
       "output_type": "stream",
       "stream": "stdout",
       "text": [
        "\n",
        "http://www.cbssports.com/nba/players/playerpage/6496/Kobe-Bryant"
       ]
      },
      {
       "output_type": "stream",
       "stream": "stdout",
       "text": [
        "\n",
        "http://www.cbssports.com/nba/players/playerpage/1685202/Chase-Budinger"
       ]
      },
      {
       "output_type": "stream",
       "stream": "stdout",
       "text": [
        "\n",
        "http://www.cbssports.com/nba/players/playerpage/2067658/Reggie-Bullock"
       ]
      },
      {
       "output_type": "stream",
       "stream": "stdout",
       "text": [
        "\n",
        "http://www.cbssports.com/nba/players/playerpage/2067659/Trey-Burke"
       ]
      },
      {
       "output_type": "stream",
       "stream": "stdout",
       "text": [
        "\n",
        "http://www.cbssports.com/nba/players/playerpage/1714919/Alec-Burks"
       ]
      },
      {
       "output_type": "stream",
       "stream": "stdout",
       "text": [
        "\n",
        "http://www.cbssports.com/nba/players/playerpage/2147738/Deonte-Burton"
       ]
      },
      {
       "output_type": "stream",
       "stream": "stdout",
       "text": [
        "\n",
        "http://www.cbssports.com/nba/players/playerpage/307820/Caron-Butler"
       ]
      },
      {
       "output_type": "stream",
       "stream": "stdout",
       "text": [
        "\n",
        "http://www.cbssports.com/nba/players/playerpage/1646703/Jimmy-Butler"
       ]
      },
      {
       "output_type": "stream",
       "stream": "stdout",
       "text": [
        "\n",
        "http://www.cbssports.com/nba/players/playerpage/307821/Rasual-Butler"
       ]
      },
      {
       "output_type": "stream",
       "stream": "stdout",
       "text": [
        "\n",
        "http://www.cbssports.com/nba/players/playerpage/1927264/Dwight-Buycks"
       ]
      },
      {
       "output_type": "stream",
       "stream": "stdout",
       "text": [
        "\n",
        "http://www.cbssports.com/nba/players/playerpage/1231859/Derrick-Byars"
       ]
      },
      {
       "output_type": "stream",
       "stream": "stdout",
       "text": [
        "\n",
        "http://www.cbssports.com/nba/players/playerpage/555938/Andrew-Bynum"
       ]
      },
      {
       "output_type": "stream",
       "stream": "stdout",
       "text": [
        "\n",
        "http://www.cbssports.com/nba/players/playerpage/563211/Will-Bynum"
       ]
      },
      {
       "output_type": "stream",
       "stream": "stdout",
       "text": [
        "\n",
        "http://www.cbssports.com/nba/players/playerpage/2135521/Bruno-Caboclo"
       ]
      },
      {
       "output_type": "stream",
       "stream": "stdout",
       "text": [
        "\n",
        "http://www.cbssports.com/nba/players/playerpage/1685243/Nick-Calathes"
       ]
      },
      {
       "output_type": "stream",
       "stream": "stdout",
       "text": [
        "\n",
        "http://www.cbssports.com/nba/players/playerpage/563176/Jose-Calderon"
       ]
      },
      {
       "output_type": "stream",
       "stream": "stdout",
       "text": [
        "\n",
        "http://www.cbssports.com/nba/players/playerpage/2067660/Kentavious-Caldwell-Pope"
       ]
      },
      {
       "output_type": "stream",
       "stream": "stdout",
       "text": [
        "\n",
        "http://www.cbssports.com/nba/players/playerpage/6505/Marcus-Camby"
       ]
      },
      {
       "output_type": "stream",
       "stream": "stdout",
       "text": [
        "\n",
        "http://www.cbssports.com/nba/players/playerpage/2067661/Isaiah-Canaan"
       ]
      },
      {
       "output_type": "stream",
       "stream": "stdout",
       "text": [
        "\n",
        "http://www.cbssports.com/nba/players/playerpage/1113148/Rodney-Carney"
       ]
      },
      {
       "output_type": "stream",
       "stream": "stdout",
       "text": [
        "\n",
        "http://www.cbssports.com/nba/players/playerpage/1685244/DeMarre-Carroll"
       ]
      },
      {
       "output_type": "stream",
       "stream": "stdout",
       "text": [
        "\n",
        "http://www.cbssports.com/nba/players/playerpage/20595/Vince-Carter"
       ]
      },
      {
       "output_type": "stream",
       "stream": "stdout",
       "text": [
        "\n",
        "http://www.cbssports.com/nba/players/playerpage/2067662/Michael-Carter-Williams"
       ]
      },
      {
       "output_type": "stream",
       "stream": "stdout",
       "text": [
        "\n",
        "http://www.cbssports.com/nba/players/playerpage/1685245/Omri-Casspi"
       ]
      },
      {
       "output_type": "stream",
       "stream": "stdout",
       "text": [
        "\n",
        "http://www.cbssports.com/nba/players/playerpage/1622496/Mario-Chalmers"
       ]
      },
      {
       "output_type": "stream",
       "stream": "stdout",
       "text": [
        "\n",
        "http://www.cbssports.com/nba/players/playerpage/240273/Tyson-Chandler"
       ]
      },
      {
       "output_type": "stream",
       "stream": "stdout",
       "text": [
        "\n",
        "http://www.cbssports.com/nba/players/playerpage/1231860/Wilson-Chandler"
       ]
      },
      {
       "output_type": "stream",
       "stream": "stdout",
       "text": [
        "\n",
        "http://www.cbssports.com/nba/players/playerpage/2155097/Will-Cherry"
       ]
      },
      {
       "output_type": "stream",
       "stream": "stdout",
       "text": [
        "\n",
        "http://www.cbssports.com/nba/players/playerpage/498276/Josh-Childress"
       ]
      },
      {
       "output_type": "stream",
       "stream": "stdout",
       "text": [
        "\n",
        "http://www.cbssports.com/nba/players/playerpage/1708414/Dionte-Christmas"
       ]
      },
      {
       "output_type": "stream",
       "stream": "stdout",
       "text": [
        "\n",
        "http://www.cbssports.com/nba/players/playerpage/2135522/Semaj-Christon"
       ]
      },
      {
       "output_type": "stream",
       "stream": "stdout",
       "text": [
        "\n",
        "http://www.cbssports.com/nba/players/playerpage/2102168/Patrick-Christopher"
       ]
      },
      {
       "output_type": "stream",
       "stream": "stdout",
       "text": [
        "\n",
        "http://www.cbssports.com/nba/players/playerpage/1685246/Earl-Clark"
       ]
      },
      {
       "output_type": "stream",
       "stream": "stdout",
       "text": [
        "\n",
        "http://www.cbssports.com/nba/players/playerpage/2095552/Ian-Clark"
       ]
      },
      {
       "output_type": "stream",
       "stream": "stdout",
       "text": [
        "\n",
        "http://www.cbssports.com/nba/players/playerpage/2135523/Jordan-Clarkson"
       ]
      },
      {
       "output_type": "stream",
       "stream": "stdout",
       "text": [
        "\n",
        "http://www.cbssports.com/nba/players/playerpage/1685247/Victor-Claver"
       ]
      },
      {
       "output_type": "stream",
       "stream": "stdout",
       "text": [
        "\n",
        "http://www.cbssports.com/nba/players/playerpage/2147581/Justin-Cobbs"
       ]
      },
      {
       "output_type": "stream",
       "stream": "stdout",
       "text": [
        "\n",
        "http://www.cbssports.com/nba/players/playerpage/1332759/Norris-Cole"
       ]
      },
      {
       "output_type": "stream",
       "stream": "stdout",
       "text": [
        "\n",
        "http://www.cbssports.com/nba/players/playerpage/1755222/Dwayne-Collins"
       ]
      },
      {
       "output_type": "stream",
       "stream": "stdout",
       "text": [
        "\n",
        "http://www.cbssports.com/nba/players/playerpage/240277/Jason-Collins"
       ]
      },
      {
       "output_type": "stream",
       "stream": "stdout",
       "text": [
        "\n",
        "http://www.cbssports.com/nba/players/playerpage/1685203/Darren-Collison"
       ]
      },
      {
       "output_type": "stream",
       "stream": "stdout",
       "text": [
        "\n",
        "http://www.cbssports.com/nba/players/playerpage/400539/Nick-Collison"
       ]
      },
      {
       "output_type": "stream",
       "stream": "stdout",
       "text": [
        "\n",
        "http://www.cbssports.com/nba/players/playerpage/1231861/Mike-Conley"
       ]
      },
      {
       "output_type": "stream",
       "stream": "stdout",
       "text": [
        "\n",
        "http://www.cbssports.com/nba/players/playerpage/400540/Brian-Cook"
       ]
      },
      {
       "output_type": "stream",
       "stream": "stdout",
       "text": [
        "\n",
        "http://www.cbssports.com/nba/players/playerpage/2145887/Jack-Cooley"
       ]
      },
      {
       "output_type": "stream",
       "stream": "stdout",
       "text": [
        "\n",
        "http://www.cbssports.com/nba/players/playerpage/1995498/Chris-Copeland"
       ]
      },
      {
       "output_type": "stream",
       "stream": "stdout",
       "text": [
        "\n",
        "http://www.cbssports.com/nba/players/playerpage/2135923/Bryce-Cotton"
       ]
      },
      {
       "output_type": "stream",
       "stream": "stdout",
       "text": [
        "\n",
        "http://www.cbssports.com/nba/players/playerpage/1777006/Marcus-Cousin"
       ]
      },
      {
       "output_type": "stream",
       "stream": "stdout",
       "text": [
        "\n",
        "http://www.cbssports.com/nba/players/playerpage/1755178/DeMarcus-Cousins"
       ]
      },
      {
       "output_type": "stream",
       "stream": "stdout",
       "text": [
        "\n",
        "http://www.cbssports.com/nba/players/playerpage/2071252/Robert-Covington"
       ]
      },
      {
       "output_type": "stream",
       "stream": "stdout",
       "text": [
        "\n",
        "http://www.cbssports.com/nba/players/playerpage/2067663/Allen-Crabbe"
       ]
      },
      {
       "output_type": "stream",
       "stream": "stdout",
       "text": [
        "\n",
        "http://www.cbssports.com/nba/players/playerpage/2146346/Aaron-Craft"
       ]
      },
      {
       "output_type": "stream",
       "stream": "stdout",
       "text": [
        "\n",
        "http://www.cbssports.com/nba/players/playerpage/2155403/Chris-Crawford"
       ]
      },
      {
       "output_type": "stream",
       "stream": "stdout",
       "text": [
        "\n",
        "http://www.cbssports.com/nba/players/playerpage/2147834/Drew-Crawford"
       ]
      },
      {
       "output_type": "stream",
       "stream": "stdout",
       "text": [
        "\n",
        "http://www.cbssports.com/nba/players/playerpage/196316/Jamal-Crawford"
       ]
      },
      {
       "output_type": "stream",
       "stream": "stdout",
       "text": [
        "\n",
        "http://www.cbssports.com/nba/players/playerpage/1755223/Jordan-Crawford"
       ]
      },
      {
       "output_type": "stream",
       "stream": "stdout",
       "text": [
        "\n",
        "http://www.cbssports.com/nba/players/playerpage/1992784/Jae-Crowder"
       ]
      },
      {
       "output_type": "stream",
       "stream": "stdout",
       "text": [
        "\n",
        "http://www.cbssports.com/nba/players/playerpage/1685248/Dante-Cunningham"
       ]
      },
      {
       "output_type": "stream",
       "stream": "stdout",
       "text": [
        "\n",
        "http://www.cbssports.com/nba/players/playerpage/1992785/Jared-Cunningham"
       ]
      },
      {
       "output_type": "stream",
       "stream": "stdout",
       "text": [
        "\n",
        "http://www.cbssports.com/nba/players/playerpage/2089523/Seth-Curry"
       ]
      },
      {
       "output_type": "stream",
       "stream": "stdout",
       "text": [
        "\n",
        "http://www.cbssports.com/nba/players/playerpage/1685204/Stephen-Curry"
       ]
      },
      {
       "output_type": "stream",
       "stream": "stdout",
       "text": [
        "\n",
        "http://www.cbssports.com/nba/players/playerpage/240280/Samuel-Dalembert"
       ]
      },
      {
       "output_type": "stream",
       "stream": "stdout",
       "text": [
        "\n",
        "http://www.cbssports.com/nba/players/playerpage/2135524/Nemanja-Dangubic"
       ]
      },
      {
       "output_type": "stream",
       "stream": "stdout",
       "text": [
        "\n",
        "http://www.cbssports.com/nba/players/playerpage/2135525/DeAndre-Daniels"
       ]
      },
      {
       "output_type": "stream",
       "stream": "stdout",
       "text": [
        "\n",
        "http://www.cbssports.com/nba/players/playerpage/2102660/Troy-Daniels"
       ]
      },
      {
       "output_type": "stream",
       "stream": "stdout",
       "text": [
        "\n",
        "http://www.cbssports.com/nba/players/playerpage/2070931/Luigi-Datome"
       ]
      },
      {
       "output_type": "stream",
       "stream": "stdout",
       "text": [
        "\n",
        "http://www.cbssports.com/nba/players/playerpage/2093474/Brandon-Davies"
       ]
      },
      {
       "output_type": "stream",
       "stream": "stdout",
       "text": [
        "\n",
        "http://www.cbssports.com/nba/players/playerpage/1992786/Anthony-Davis"
       ]
      },
      {
       "output_type": "stream",
       "stream": "stdout",
       "text": [
        "\n",
        "http://www.cbssports.com/nba/players/playerpage/1755179/Ed-Davis"
       ]
      },
      {
       "output_type": "stream",
       "stream": "stdout",
       "text": [
        "\n",
        "http://www.cbssports.com/nba/players/playerpage/1231865/Glen-Davis"
       ]
      },
      {
       "output_type": "stream",
       "stream": "stdout",
       "text": [
        "\n",
        "http://www.cbssports.com/nba/players/playerpage/2147778/Josh-Davis"
       ]
      },
      {
       "output_type": "stream",
       "stream": "stdout",
       "text": [
        "\n",
        "http://www.cbssports.com/nba/players/playerpage/2147582/Andre-Dawkins"
       ]
      },
      {
       "output_type": "stream",
       "stream": "stdout",
       "text": [
        "\n",
        "http://www.cbssports.com/nba/players/playerpage/1947586/Eric-Dawson"
       ]
      },
      {
       "output_type": "stream",
       "stream": "stdout",
       "text": [
        "\n",
        "http://www.cbssports.com/nba/players/playerpage/1685205/Austin-Daye"
       ]
      },
      {
       "output_type": "stream",
       "stream": "stdout",
       "text": [
        "\n",
        "http://www.cbssports.com/nba/players/playerpage/1685249/Nando-De Colo"
       ]
      },
      {
       "output_type": "stream",
       "stream": "stdout",
       "text": [
        "\n",
        "http://www.cbssports.com/nba/players/playerpage/1685250/DeMar-DeRozan"
       ]
      },
      {
       "output_type": "stream",
       "stream": "stdout",
       "text": [
        "\n",
        "http://www.cbssports.com/nba/players/playerpage/2096062/DeWayne-Dedmon"
       ]
      },
      {
       "output_type": "stream",
       "stream": "stdout",
       "text": [
        "\n",
        "http://www.cbssports.com/nba/players/playerpage/400541/Carlos-Delfino"
       ]
      },
      {
       "output_type": "stream",
       "stream": "stdout",
       "text": [
        "\n",
        "http://www.cbssports.com/nba/players/playerpage/2095150/Matthew-Dellavedova"
       ]
      },
      {
       "output_type": "stream",
       "stream": "stdout",
       "text": [
        "\n",
        "http://www.cbssports.com/nba/players/playerpage/498277/Luol-Deng"
       ]
      },
      {
       "output_type": "stream",
       "stream": "stdout",
       "text": [
        "\n",
        "http://www.cbssports.com/nba/players/playerpage/400542/Boris-Diaw"
       ]
      },
      {
       "output_type": "stream",
       "stream": "stdout",
       "text": [
        "\n",
        "http://www.cbssports.com/nba/players/playerpage/2067664/Gorgui-Dieng"
       ]
      },
      {
       "output_type": "stream",
       "stream": "stdout",
       "text": [
        "\n",
        "http://www.cbssports.com/nba/players/playerpage/2135526/Spencer-Dinwiddie"
       ]
      },
      {
       "output_type": "stream",
       "stream": "stdout",
       "text": [
        "\n",
        "http://www.cbssports.com/nba/players/playerpage/555940/Ike-Diogu"
       ]
      },
      {
       "output_type": "stream",
       "stream": "stdout",
       "text": [
        "\n",
        "http://www.cbssports.com/nba/players/playerpage/240281/DeSagana-Diop"
       ]
      },
      {
       "output_type": "stream",
       "stream": "stdout",
       "text": [
        "\n",
        "http://www.cbssports.com/nba/players/playerpage/1622528/Joey-Dorsey"
       ]
      },
      {
       "output_type": "stream",
       "stream": "stdout",
       "text": [
        "\n",
        "http://www.cbssports.com/nba/players/playerpage/1685206/Toney-Douglas"
       ]
      },
      {
       "output_type": "stream",
       "stream": "stdout",
       "text": [
        "\n",
        "http://www.cbssports.com/nba/players/playerpage/1622529/Chris-Douglas-Roberts"
       ]
      },
      {
       "output_type": "stream",
       "stream": "stdout",
       "text": [
        "\n",
        "http://www.cbssports.com/nba/players/playerpage/1622530/Goran-Dragic"
       ]
      },
      {
       "output_type": "stream",
       "stream": "stdout",
       "text": [
        "\n",
        "http://www.cbssports.com/nba/players/playerpage/2155404/Zoran-Dragic"
       ]
      },
      {
       "output_type": "stream",
       "stream": "stdout",
       "text": [
        "\n",
        "http://www.cbssports.com/nba/players/playerpage/2095927/Larry II-Drew"
       ]
      },
      {
       "output_type": "stream",
       "stream": "stdout",
       "text": [
        "\n",
        "http://www.cbssports.com/nba/players/playerpage/1992788/Andre-Drummond"
       ]
      },
      {
       "output_type": "stream",
       "stream": "stdout",
       "text": [
        "\n",
        "http://www.cbssports.com/nba/players/playerpage/1240149/Jared-Dudley"
       ]
      },
      {
       "output_type": "stream",
       "stream": "stdout",
       "text": [
        "\n",
        "http://www.cbssports.com/nba/players/playerpage/6552/Tim-Duncan"
       ]
      },
      {
       "output_type": "stream",
       "stream": "stdout",
       "text": [
        "\n",
        "http://www.cbssports.com/nba/players/playerpage/307825/Mike-Dunleavy"
       ]
      },
      {
       "output_type": "stream",
       "stream": "stdout",
       "text": [
        "\n",
        "http://www.cbssports.com/nba/players/playerpage/1231866/Kevin-Durant"
       ]
      },
      {
       "output_type": "stream",
       "stream": "stdout",
       "text": [
        "\n",
        "http://www.cbssports.com/nba/players/playerpage/2135527/Cleanthony-Early"
       ]
      },
      {
       "output_type": "stream",
       "stream": "stdout",
       "text": [
        "\n",
        "http://www.cbssports.com/nba/players/playerpage/1755224/Devin-Ebanks"
       ]
      },
      {
       "output_type": "stream",
       "stream": "stdout",
       "text": [
        "\n",
        "http://www.cbssports.com/nba/players/playerpage/2147835/Jarell-Eddie"
       ]
      },
      {
       "output_type": "stream",
       "stream": "stdout",
       "text": [
        "\n",
        "http://www.cbssports.com/nba/players/playerpage/1776651/Shane-Edwards"
       ]
      },
      {
       "output_type": "stream",
       "stream": "stdout",
       "text": [
        "\n",
        "http://www.cbssports.com/nba/players/playerpage/1113153/Lior-Eliyahu"
       ]
      },
      {
       "output_type": "stream",
       "stream": "stdout",
       "text": [
        "\n",
        "http://www.cbssports.com/nba/players/playerpage/1685251/Wayne-Ellington"
       ]
      },
      {
       "output_type": "stream",
       "stream": "stdout",
       "text": [
        "\n",
        "http://www.cbssports.com/nba/players/playerpage/555941/Monta-Ellis"
       ]
      },
      {
       "output_type": "stream",
       "stream": "stdout",
       "text": [
        "\n",
        "http://www.cbssports.com/nba/players/playerpage/1685208/Chinemelu-Elonu"
       ]
      },
      {
       "output_type": "stream",
       "stream": "stdout",
       "text": [
        "\n",
        "http://www.cbssports.com/nba/players/playerpage/307827/Melvin-Ely"
       ]
      },
      {
       "output_type": "stream",
       "stream": "stdout",
       "text": [
        "\n",
        "http://www.cbssports.com/nba/players/playerpage/2135528/Joel-Embiid"
       ]
      },
      {
       "output_type": "stream",
       "stream": "stdout",
       "text": [
        "\n",
        "http://www.cbssports.com/nba/players/playerpage/1992789/Kim-English"
       ]
      },
      {
       "output_type": "stream",
       "stream": "stdout",
       "text": [
        "\n",
        "http://www.cbssports.com/nba/players/playerpage/2067666/James-Ennis"
       ]
      },
      {
       "output_type": "stream",
       "stream": "stdout",
       "text": [
        "\n",
        "http://www.cbssports.com/nba/players/playerpage/2135529/Tyler-Ennis"
       ]
      },
      {
       "output_type": "stream",
       "stream": "stdout",
       "text": [
        "\n",
        "http://www.cbssports.com/nba/players/playerpage/2002140/Micheal-Eric"
       ]
      },
      {
       "output_type": "stream",
       "stream": "stdout",
       "text": [
        "\n",
        "http://www.cbssports.com/nba/players/playerpage/1755225/Jeremy-Evans"
       ]
      },
      {
       "output_type": "stream",
       "stream": "stdout",
       "text": [
        "\n",
        "http://www.cbssports.com/nba/players/playerpage/372464/Reggie-Evans"
       ]
      },
      {
       "output_type": "stream",
       "stream": "stdout",
       "text": [
        "\n",
        "http://www.cbssports.com/nba/players/playerpage/1685252/Tyreke-Evans"
       ]
      },
      {
       "output_type": "stream",
       "stream": "stdout",
       "text": [
        "\n",
        "http://www.cbssports.com/nba/players/playerpage/2135530/Dante-Exum"
       ]
      },
      {
       "output_type": "stream",
       "stream": "stdout",
       "text": [
        "\n",
        "http://www.cbssports.com/nba/players/playerpage/1992790/Festus-Ezeli"
       ]
      },
      {
       "output_type": "stream",
       "stream": "stdout",
       "text": [
        "\n",
        "http://www.cbssports.com/nba/players/playerpage/2146561/C.J.-Fair"
       ]
      },
      {
       "output_type": "stream",
       "stream": "stdout",
       "text": [
        "\n",
        "http://www.cbssports.com/nba/players/playerpage/1333321/Kenneth-Faried"
       ]
      },
      {
       "output_type": "stream",
       "stream": "stdout",
       "text": [
        "\n",
        "http://www.cbssports.com/nba/players/playerpage/1113154/Jordan-Farmar"
       ]
      },
      {
       "output_type": "stream",
       "stream": "stdout",
       "text": [
        "\n",
        "http://www.cbssports.com/nba/players/playerpage/2073821/Vitor-Faverani"
       ]
      },
      {
       "output_type": "stream",
       "stream": "stdout",
       "text": [
        "\n",
        "http://www.cbssports.com/nba/players/playerpage/1755180/Derrick-Favors"
       ]
      },
      {
       "output_type": "stream",
       "stream": "stdout",
       "text": [
        "\n",
        "http://www.cbssports.com/nba/players/playerpage/2067667/Carrick-Felix"
       ]
      },
      {
       "output_type": "stream",
       "stream": "stdout",
       "text": [
        "\n",
        "http://www.cbssports.com/nba/players/playerpage/555943/Raymond-Felton"
       ]
      },
      {
       "output_type": "stream",
       "stream": "stdout",
       "text": [
        "\n",
        "http://www.cbssports.com/nba/players/playerpage/1231869/Kyrylo-Fesenko"
       ]
      },
      {
       "output_type": "stream",
       "stream": "stdout",
       "text": [
        "\n",
        "http://www.cbssports.com/nba/players/playerpage/1755226/Landry-Fields"
       ]
      },
      {
       "output_type": "stream",
       "stream": "stdout",
       "text": [
        "\n",
        "http://www.cbssports.com/nba/players/playerpage/1776652/Gary-Forbes"
       ]
      },
      {
       "output_type": "stream",
       "stream": "stdout",
       "text": [
        "\n",
        "http://www.cbssports.com/nba/players/playerpage/1992791/Evan-Fournier"
       ]
      },
      {
       "output_type": "stream",
       "stream": "stdout",
       "text": [
        "\n",
        "http://www.cbssports.com/nba/players/playerpage/1113155/Randy-Foye"
       ]
      },
      {
       "output_type": "stream",
       "stream": "stdout",
       "text": [
        "\n",
        "http://www.cbssports.com/nba/players/playerpage/2067668/Jamaal-Franklin"
       ]
      },
      {
       "output_type": "stream",
       "stream": "stdout",
       "text": [
        "\n",
        "http://www.cbssports.com/nba/players/playerpage/2155405/Tim-Frazier"
       ]
      },
      {
       "output_type": "stream",
       "stream": "stdout",
       "text": [
        "\n",
        "http://www.cbssports.com/nba/players/playerpage/1332605/Jimmer-Fredette"
       ]
      },
      {
       "output_type": "stream",
       "stream": "stdout",
       "text": [
        "\n",
        "http://www.cbssports.com/nba/players/playerpage/1113156/Joel-Freeland"
       ]
      },
      {
       "output_type": "stream",
       "stream": "stdout",
       "text": [
        "\n",
        "http://www.cbssports.com/nba/players/playerpage/555944/Channing-Frye"
       ]
      },
      {
       "output_type": "stream",
       "stream": "stdout",
       "text": [
        "\n",
        "http://www.cbssports.com/nba/players/playerpage/307829/Dan-Gadzuric"
       ]
      },
      {
       "output_type": "stream",
       "stream": "stdout",
       "text": [
        "\n",
        "http://www.cbssports.com/nba/players/playerpage/1713509/Tony-Gaffney"
       ]
      },
      {
       "output_type": "stream",
       "stream": "stdout",
       "text": [
        "\n",
        "http://www.cbssports.com/nba/players/playerpage/1622533/Danilo-Gallinari"
       ]
      },
      {
       "output_type": "stream",
       "stream": "stdout",
       "text": [
        "\n",
        "http://www.cbssports.com/nba/players/playerpage/2147073/Langston-Galloway"
       ]
      },
      {
       "output_type": "stream",
       "stream": "stdout",
       "text": [
        "\n",
        "http://www.cbssports.com/nba/players/playerpage/555945/Francisco-Garcia"
       ]
      },
      {
       "output_type": "stream",
       "stream": "stdout",
       "text": [
        "\n",
        "http://www.cbssports.com/nba/players/playerpage/6581/Kevin-Garnett"
       ]
      },
      {
       "output_type": "stream",
       "stream": "stdout",
       "text": [
        "\n",
        "http://www.cbssports.com/nba/players/playerpage/1333065/Diante-Garrett"
       ]
      },
      {
       "output_type": "stream",
       "stream": "stdout",
       "text": [
        "\n",
        "http://www.cbssports.com/nba/players/playerpage/1231870/Marc-Gasol"
       ]
      },
      {
       "output_type": "stream",
       "stream": "stdout",
       "text": [
        "\n",
        "http://www.cbssports.com/nba/players/playerpage/240285/Pau-Gasol"
       ]
      },
      {
       "output_type": "stream",
       "stream": "stdout",
       "text": [
        "\n",
        "http://www.cbssports.com/nba/players/playerpage/1113157/Rudy-Gay"
       ]
      },
      {
       "output_type": "stream",
       "stream": "stdout",
       "text": [
        "\n",
        "http://www.cbssports.com/nba/players/playerpage/1739565/Alonzo-Gee"
       ]
      },
      {
       "output_type": "stream",
       "stream": "stdout",
       "text": [
        "\n",
        "http://www.cbssports.com/nba/players/playerpage/555946/Mickael-Gelabale"
       ]
      },
      {
       "output_type": "stream",
       "stream": "stdout",
       "text": [
        "\n",
        "http://www.cbssports.com/nba/players/playerpage/2135531/Alessandro-Gentile"
       ]
      },
      {
       "output_type": "stream",
       "stream": "stdout",
       "text": [
        "\n",
        "http://www.cbssports.com/nba/players/playerpage/1755181/Paul-George"
       ]
      },
      {
       "output_type": "stream",
       "stream": "stdout",
       "text": [
        "\n",
        "http://www.cbssports.com/nba/players/playerpage/1685210/Taj-Gibson"
       ]
      },
      {
       "output_type": "stream",
       "stream": "stdout",
       "text": [
        "\n",
        "http://www.cbssports.com/nba/players/playerpage/139066/Manu-Ginobili"
       ]
      },
      {
       "output_type": "stream",
       "stream": "stdout",
       "text": [
        "\n",
        "http://www.cbssports.com/nba/players/playerpage/1777011/Mickell-Gladness"
       ]
      },
      {
       "output_type": "stream",
       "stream": "stdout",
       "text": [
        "\n",
        "http://www.cbssports.com/nba/players/playerpage/1685211/Sergiy-Gladyr"
       ]
      },
      {
       "output_type": "stream",
       "stream": "stdout",
       "text": [
        "\n",
        "http://www.cbssports.com/nba/players/playerpage/2067669/Rudy-Gobert"
       ]
      },
      {
       "output_type": "stream",
       "stream": "stdout",
       "text": [
        "\n",
        "http://www.cbssports.com/nba/players/playerpage/555947/Ryan-Gomes"
       ]
      },
      {
       "output_type": "stream",
       "stream": "stdout",
       "text": [
        "\n",
        "http://www.cbssports.com/nba/players/playerpage/307830/Drew-Gooden"
       ]
      },
      {
       "output_type": "stream",
       "stream": "stdout",
       "text": [
        "\n",
        "http://www.cbssports.com/nba/players/playerpage/2067670/Archie-Goodwin"
       ]
      },
      {
       "output_type": "stream",
       "stream": "stdout",
       "text": [
        "\n",
        "http://www.cbssports.com/nba/players/playerpage/2135532/Aaron-Gordon"
       ]
      },
      {
       "output_type": "stream",
       "stream": "stdout",
       "text": [
        "\n",
        "http://www.cbssports.com/nba/players/playerpage/498284/Ben-Gordon"
       ]
      },
      {
       "output_type": "stream",
       "stream": "stdout",
       "text": [
        "\n",
        "http://www.cbssports.com/nba/players/playerpage/2155447/Drew-Gordon"
       ]
      },
      {
       "output_type": "stream",
       "stream": "stdout",
       "text": [
        "\n",
        "http://www.cbssports.com/nba/players/playerpage/1622501/Eric-Gordon"
       ]
      },
      {
       "output_type": "stream",
       "stream": "stdout",
       "text": [
        "\n",
        "http://www.cbssports.com/nba/players/playerpage/555948/Marcin-Gortat"
       ]
      },
      {
       "output_type": "stream",
       "stream": "stdout",
       "text": [
        "\n",
        "http://www.cbssports.com/nba/players/playerpage/555950/Danny-Granger"
       ]
      },
      {
       "output_type": "stream",
       "stream": "stdout",
       "text": [
        "\n",
        "http://www.cbssports.com/nba/players/playerpage/2135533/Jerami-Grant"
       ]
      },
      {
       "output_type": "stream",
       "stream": "stdout",
       "text": [
        "\n",
        "http://www.cbssports.com/nba/players/playerpage/1231871/Aaron-Gray"
       ]
      },
      {
       "output_type": "stream",
       "stream": "stdout",
       "text": [
        "\n",
        "http://www.cbssports.com/nba/players/playerpage/1685212/Danny-Green"
       ]
      },
      {
       "output_type": "stream",
       "stream": "stdout",
       "text": [
        "\n",
        "http://www.cbssports.com/nba/players/playerpage/1992792/Draymond-Green"
       ]
      },
      {
       "output_type": "stream",
       "stream": "stdout",
       "text": [
        "\n",
        "http://www.cbssports.com/nba/players/playerpage/2067671/Erick-Green"
       ]
      },
      {
       "output_type": "stream",
       "stream": "stdout",
       "text": [
        "\n",
        "http://www.cbssports.com/nba/players/playerpage/555951/Gerald-Green"
       ]
      },
      {
       "output_type": "stream",
       "stream": "stdout",
       "text": [
        "\n",
        "http://www.cbssports.com/nba/players/playerpage/2103346/JaMychal-Green"
       ]
      },
      {
       "output_type": "stream",
       "stream": "stdout",
       "text": [
        "\n",
        "http://www.cbssports.com/nba/players/playerpage/1231873/Jeff-Green"
       ]
      },
      {
       "output_type": "stream",
       "stream": "stdout",
       "text": [
        "\n",
        "http://www.cbssports.com/nba/players/playerpage/400547/Willie-Green"
       ]
      },
      {
       "output_type": "stream",
       "stream": "stdout",
       "text": [
        "\n",
        "http://www.cbssports.com/nba/players/playerpage/1685213/Blake-Griffin"
       ]
      },
      {
       "output_type": "stream",
       "stream": "stdout",
       "text": [
        "\n",
        "http://www.cbssports.com/nba/players/playerpage/2094066/Eric-Griffin"
       ]
      },
      {
       "output_type": "stream",
       "stream": "stdout",
       "text": [
        "\n",
        "http://www.cbssports.com/nba/players/playerpage/2103347/Jorge-Gutierrez"
       ]
      },
      {
       "output_type": "stream",
       "stream": "stdout",
       "text": [
        "\n",
        "http://www.cbssports.com/nba/players/playerpage/2135534/P.J.-Hairston"
       ]
      },
      {
       "output_type": "stream",
       "stream": "stdout",
       "text": [
        "\n",
        "http://www.cbssports.com/nba/players/playerpage/1113159/Yotam-Halperin"
       ]
      },
      {
       "output_type": "stream",
       "stream": "stdout",
       "text": [
        "\n",
        "http://www.cbssports.com/nba/players/playerpage/1646611/Jordan-Hamilton"
       ]
      },
      {
       "output_type": "stream",
       "stream": "stdout",
       "text": [
        "\n",
        "http://www.cbssports.com/nba/players/playerpage/1992793/Justin-Hamilton"
       ]
      },
      {
       "output_type": "stream",
       "stream": "stdout",
       "text": [
        "\n",
        "http://www.cbssports.com/nba/players/playerpage/2147739/Luke-Hancock"
       ]
      },
      {
       "output_type": "stream",
       "stream": "stdout",
       "text": [
        "\n",
        "http://www.cbssports.com/nba/players/playerpage/1143300/Ben-Hansbrough"
       ]
      },
      {
       "output_type": "stream",
       "stream": "stdout",
       "text": [
        "\n",
        "http://www.cbssports.com/nba/players/playerpage/1685214/Tyler-Hansbrough"
       ]
      },
      {
       "output_type": "stream",
       "stream": "stdout",
       "text": [
        "\n",
        "http://www.cbssports.com/nba/players/playerpage/2067672/Tim-Hardaway Jr."
       ]
      },
      {
       "output_type": "stream",
       "stream": "stdout",
       "text": [
        "\n",
        "http://www.cbssports.com/nba/players/playerpage/1685255/James-Harden"
       ]
      },
      {
       "output_type": "stream",
       "stream": "stdout",
       "text": [
        "\n",
        "http://www.cbssports.com/nba/players/playerpage/1992794/Maurice-Harkless"
       ]
      },
      {
       "output_type": "stream",
       "stream": "stdout",
       "text": [
        "\n",
        "http://www.cbssports.com/nba/players/playerpage/1646586/Josh-Harrellson"
       ]
      },
      {
       "output_type": "stream",
       "stream": "stdout",
       "text": [
        "\n",
        "http://www.cbssports.com/nba/players/playerpage/20605/Al-Harrington"
       ]
      },
      {
       "output_type": "stream",
       "stream": "stdout",
       "text": [
        "\n",
        "http://www.cbssports.com/nba/players/playerpage/498285/Devin-Harris"
       ]
      },
      {
       "output_type": "stream",
       "stream": "stdout",
       "text": [
        "\n",
        "http://www.cbssports.com/nba/players/playerpage/2084503/Elias-Harris"
       ]
      },
      {
       "output_type": "stream",
       "stream": "stdout",
       "text": [
        "\n",
        "http://www.cbssports.com/nba/players/playerpage/2135536/Gary-Harris"
       ]
      },
      {
       "output_type": "stream",
       "stream": "stdout",
       "text": [
        "\n",
        "http://www.cbssports.com/nba/players/playerpage/2135535/Joe-Harris"
       ]
      },
      {
       "output_type": "stream",
       "stream": "stdout",
       "text": [
        "\n",
        "http://www.cbssports.com/nba/players/playerpage/1777894/Manny-Harris"
       ]
      },
      {
       "output_type": "stream",
       "stream": "stdout",
       "text": [
        "\n",
        "http://www.cbssports.com/nba/players/playerpage/1139310/Mike-Harris"
       ]
      },
      {
       "output_type": "stream",
       "stream": "stdout",
       "text": [
        "\n",
        "http://www.cbssports.com/nba/players/playerpage/1780830/Tobias-Harris"
       ]
      },
      {
       "output_type": "stream",
       "stream": "stdout",
       "text": [
        "\n",
        "http://www.cbssports.com/nba/players/playerpage/404646/Udonis-Haslem"
       ]
      },
      {
       "output_type": "stream",
       "stream": "stdout",
       "text": [
        "\n",
        "http://www.cbssports.com/nba/players/playerpage/1231875/Spencer-Hawes"
       ]
      },
      {
       "output_type": "stream",
       "stream": "stdout",
       "text": [
        "\n",
        "http://www.cbssports.com/nba/players/playerpage/567656/Chuck-Hayes"
       ]
      },
      {
       "output_type": "stream",
       "stream": "stdout",
       "text": [
        "\n",
        "http://www.cbssports.com/nba/players/playerpage/1755182/Gordon-Hayward"
       ]
      },
      {
       "output_type": "stream",
       "stream": "stdout",
       "text": [
        "\n",
        "http://www.cbssports.com/nba/players/playerpage/1755229/Lazar-Hayward"
       ]
      },
      {
       "output_type": "stream",
       "stream": "stdout",
       "text": [
        "\n",
        "http://www.cbssports.com/nba/players/playerpage/240289/Brendan-Haywood"
       ]
      },
      {
       "output_type": "stream",
       "stream": "stdout",
       "text": [
        "\n",
        "http://www.cbssports.com/nba/players/playerpage/1685215/Gerald-Henderson"
       ]
      },
      {
       "output_type": "stream",
       "stream": "stdout",
       "text": [
        "\n",
        "http://www.cbssports.com/nba/players/playerpage/1755183/Xavier-Henry"
       ]
      },
      {
       "output_type": "stream",
       "stream": "stdout",
       "text": [
        "\n",
        "http://www.cbssports.com/nba/players/playerpage/1992795/John-Henson"
       ]
      },
      {
       "output_type": "stream",
       "stream": "stdout",
       "text": [
        "\n",
        "http://www.cbssports.com/nba/players/playerpage/2155448/Brady-Heslip"
       ]
      },
      {
       "output_type": "stream",
       "stream": "stdout",
       "text": [
        "\n",
        "http://www.cbssports.com/nba/players/playerpage/1622538/Roy-Hibbert"
       ]
      },
      {
       "output_type": "stream",
       "stream": "stdout",
       "text": [
        "\n",
        "http://www.cbssports.com/nba/players/playerpage/1622503/JJ-Hickson"
       ]
      },
      {
       "output_type": "stream",
       "stream": "stdout",
       "text": [
        "\n",
        "http://www.cbssports.com/nba/players/playerpage/1622539/George-Hill"
       ]
      },
      {
       "output_type": "stream",
       "stream": "stdout",
       "text": [
        "\n",
        "http://www.cbssports.com/nba/players/playerpage/1685256/Jordan-Hill"
       ]
      },
      {
       "output_type": "stream",
       "stream": "stdout",
       "text": [
        "\n",
        "http://www.cbssports.com/nba/players/playerpage/2067673/Solomon-Hill"
       ]
      },
      {
       "output_type": "stream",
       "stream": "stdout",
       "text": [
        "\n",
        "http://www.cbssports.com/nba/players/playerpage/400550/Kirk-Hinrich"
       ]
      },
      {
       "output_type": "stream",
       "stream": "stdout",
       "text": [
        "\n",
        "http://www.cbssports.com/nba/players/playerpage/1685257/Jrue-Holiday"
       ]
      },
      {
       "output_type": "stream",
       "stream": "stdout",
       "text": [
        "\n",
        "http://www.cbssports.com/nba/players/playerpage/1334008/Justin-Holiday"
       ]
      },
      {
       "output_type": "stream",
       "stream": "stdout",
       "text": [
        "\n",
        "http://www.cbssports.com/nba/players/playerpage/1332591/John-Holland"
       ]
      },
      {
       "output_type": "stream",
       "stream": "stdout",
       "text": [
        "\n",
        "http://www.cbssports.com/nba/players/playerpage/1113160/Ryan-Hollins"
       ]
      },
      {
       "output_type": "stream",
       "stream": "stdout",
       "text": [
        "\n",
        "http://www.cbssports.com/nba/players/playerpage/2155406/Stephen-Holt"
       ]
      },
      {
       "output_type": "stream",
       "stream": "stdout",
       "text": [
        "\n",
        "http://www.cbssports.com/nba/players/playerpage/2135537/Rodney-Hood"
       ]
      },
      {
       "output_type": "stream",
       "stream": "stdout",
       "text": [
        "\n",
        "http://www.cbssports.com/nba/players/playerpage/1647330/Scotty-Hopson"
       ]
      },
      {
       "output_type": "stream",
       "stream": "stdout",
       "text": [
        "\n",
        "http://www.cbssports.com/nba/players/playerpage/1231877/Al-Horford"
       ]
      },
      {
       "output_type": "stream",
       "stream": "stdout",
       "text": [
        "\n",
        "http://www.cbssports.com/nba/players/playerpage/498287/Dwight-Howard"
       ]
      },
      {
       "output_type": "stream",
       "stream": "stdout",
       "text": [
        "\n",
        "http://www.cbssports.com/nba/players/playerpage/1685216/Lester-Hudson"
       ]
      },
      {
       "output_type": "stream",
       "stream": "stdout",
       "text": [
        "\n",
        "http://www.cbssports.com/nba/players/playerpage/2135538/Josh-Huestis"
       ]
      },
      {
       "output_type": "stream",
       "stream": "stdout",
       "text": [
        "\n",
        "http://www.cbssports.com/nba/players/playerpage/1992796/Robbie-Hummel"
       ]
      },
      {
       "output_type": "stream",
       "stream": "stdout",
       "text": [
        "\n",
        "http://www.cbssports.com/nba/players/playerpage/498288/Kris-Humphries"
       ]
      },
      {
       "output_type": "stream",
       "stream": "stdout",
       "text": [
        "\n",
        "http://www.cbssports.com/nba/players/playerpage/1622540/Serge-Ibaka"
       ]
      },
      {
       "output_type": "stream",
       "stream": "stdout",
       "text": [
        "\n",
        "http://www.cbssports.com/nba/players/playerpage/498289/Andre-Iguodala"
       ]
      },
      {
       "output_type": "stream",
       "stream": "stdout",
       "text": [
        "\n",
        "http://www.cbssports.com/nba/players/playerpage/555957/Ersan-Ilyasova"
       ]
      },
      {
       "output_type": "stream",
       "stream": "stdout",
       "text": [
        "\n",
        "http://www.cbssports.com/nba/players/playerpage/2155449/Joe-Ingles"
       ]
      },
      {
       "output_type": "stream",
       "stream": "stdout",
       "text": [
        "\n",
        "http://www.cbssports.com/nba/players/playerpage/2135539/Damien-Inglis"
       ]
      },
      {
       "output_type": "stream",
       "stream": "stdout",
       "text": [
        "\n",
        "http://www.cbssports.com/nba/players/playerpage/1779901/Kyrie-Irving"
       ]
      },
      {
       "output_type": "stream",
       "stream": "stdout",
       "text": [
        "\n",
        "http://www.cbssports.com/nba/players/playerpage/498290/Royal-Ivey"
       ]
      },
      {
       "output_type": "stream",
       "stream": "stdout",
       "text": [
        "\n",
        "http://www.cbssports.com/nba/players/playerpage/555958/Jarrett-Jack"
       ]
      },
      {
       "output_type": "stream",
       "stream": "stdout",
       "text": [
        "\n",
        "http://www.cbssports.com/nba/players/playerpage/1622504/Darnell-Jackson"
       ]
      },
      {
       "output_type": "stream",
       "stream": "stdout",
       "text": [
        "\n",
        "http://www.cbssports.com/nba/players/playerpage/2155450/Joe-Jackson"
       ]
      },
      {
       "output_type": "stream",
       "stream": "stdout",
       "text": [
        "\n",
        "http://www.cbssports.com/nba/players/playerpage/1646017/Reggie-Jackson"
       ]
      },
      {
       "output_type": "stream",
       "stream": "stdout",
       "text": [
        "\n",
        "http://www.cbssports.com/nba/players/playerpage/154572/Stephen-Jackson"
       ]
      },
      {
       "output_type": "stream",
       "stream": "stdout",
       "text": [
        "\n",
        "http://www.cbssports.com/nba/players/playerpage/1992797/Bernard-James"
       ]
      },
      {
       "output_type": "stream",
       "stream": "stdout",
       "text": [
        "\n",
        "http://www.cbssports.com/nba/players/playerpage/1755231/Damion-James"
       ]
      },
      {
       "output_type": "stream",
       "stream": "stdout",
       "text": [
        "\n",
        "http://www.cbssports.com/nba/players/playerpage/400553/LeBron-James"
       ]
      },
      {
       "output_type": "stream",
       "stream": "stdout",
       "text": [
        "\n",
        "http://www.cbssports.com/nba/players/playerpage/275597/Mike-James"
       ]
      },
      {
       "output_type": "stream",
       "stream": "stdout",
       "text": [
        "\n",
        "http://www.cbssports.com/nba/players/playerpage/20610/Antawn-Jamison"
       ]
      },
      {
       "output_type": "stream",
       "stream": "stdout",
       "text": [
        "\n",
        "http://www.cbssports.com/nba/players/playerpage/196327/Marko-Jaric"
       ]
      },
      {
       "output_type": "stream",
       "stream": "stdout",
       "text": [
        "\n",
        "http://www.cbssports.com/nba/players/playerpage/1739019/Othyus-Jeffers"
       ]
      },
      {
       "output_type": "stream",
       "stream": "stdout",
       "text": [
        "\n",
        "http://www.cbssports.com/nba/players/playerpage/498292/Al-Jefferson"
       ]
      },
      {
       "output_type": "stream",
       "stream": "stdout",
       "text": [
        "\n",
        "http://www.cbssports.com/nba/players/playerpage/2135540/Cory-Jefferson"
       ]
      },
      {
       "output_type": "stream",
       "stream": "stdout",
       "text": [
        "\n",
        "http://www.cbssports.com/nba/players/playerpage/240295/Richard-Jefferson"
       ]
      },
      {
       "output_type": "stream",
       "stream": "stdout",
       "text": [
        "\n",
        "http://www.cbssports.com/nba/players/playerpage/1992798/John-Jenkins"
       ]
      },
      {
       "output_type": "stream",
       "stream": "stdout",
       "text": [
        "\n",
        "http://www.cbssports.com/nba/players/playerpage/2147836/Michael-Jenkins"
       ]
      },
      {
       "output_type": "stream",
       "stream": "stdout",
       "text": [
        "\n",
        "http://www.cbssports.com/nba/players/playerpage/1685258/Brandon-Jennings"
       ]
      },
      {
       "output_type": "stream",
       "stream": "stdout",
       "text": [
        "\n",
        "http://www.cbssports.com/nba/players/playerpage/1685217/Jonas-Jerebko"
       ]
      },
      {
       "output_type": "stream",
       "stream": "stdout",
       "text": [
        "\n",
        "http://www.cbssports.com/nba/players/playerpage/2067677/Grant-Jerrett"
       ]
      },
      {
       "output_type": "stream",
       "stream": "stdout",
       "text": [
        "\n",
        "http://www.cbssports.com/nba/players/playerpage/555959/Amir-Johnson"
       ]
      },
      {
       "output_type": "stream",
       "stream": "stdout",
       "text": [
        "\n",
        "http://www.cbssports.com/nba/players/playerpage/1799223/Chris-Johnson"
       ]
      },
      {
       "output_type": "stream",
       "stream": "stdout",
       "text": [
        "\n",
        "http://www.cbssports.com/nba/players/playerpage/2022126/Chris-Johnson"
       ]
      },
      {
       "output_type": "stream",
       "stream": "stdout",
       "text": [
        "\n",
        "http://www.cbssports.com/nba/players/playerpage/2156368/Geron-Johnson"
       ]
      },
      {
       "output_type": "stream",
       "stream": "stdout",
       "text": [
        "\n",
        "http://www.cbssports.com/nba/players/playerpage/1926316/Ivan-Johnson"
       ]
      },
      {
       "output_type": "stream",
       "stream": "stdout",
       "text": [
        "\n",
        "http://www.cbssports.com/nba/players/playerpage/1685218/James-Johnson"
       ]
      },
      {
       "output_type": "stream",
       "stream": "stdout",
       "text": [
        "\n",
        "http://www.cbssports.com/nba/players/playerpage/240297/Joe-Johnson"
       ]
      },
      {
       "output_type": "stream",
       "stream": "stdout",
       "text": [
        "\n",
        "http://www.cbssports.com/nba/players/playerpage/2135541/Nick-Johnson"
       ]
      },
      {
       "output_type": "stream",
       "stream": "stdout",
       "text": [
        "\n",
        "http://www.cbssports.com/nba/players/playerpage/1992799/Orlando-Johnson"
       ]
      },
      {
       "output_type": "stream",
       "stream": "stdout",
       "text": [
        "\n",
        "http://www.cbssports.com/nba/players/playerpage/1314594/Trey-Johnson"
       ]
      },
      {
       "output_type": "stream",
       "stream": "stdout",
       "text": [
        "\n",
        "http://www.cbssports.com/nba/players/playerpage/2141505/Tyler-Johnson"
       ]
      },
      {
       "output_type": "stream",
       "stream": "stdout",
       "text": [
        "\n",
        "http://www.cbssports.com/nba/players/playerpage/1755184/Wesley-Johnson"
       ]
      },
      {
       "output_type": "stream",
       "stream": "stdout",
       "text": [
        "\n",
        "http://www.cbssports.com/nba/players/playerpage/1992800/Darius-Johnson-Odom"
       ]
      },
      {
       "output_type": "stream",
       "stream": "stdout",
       "text": [
        "\n",
        "http://www.cbssports.com/nba/players/playerpage/2135542/Nikola-Jokic"
       ]
      },
      {
       "output_type": "stream",
       "stream": "stdout",
       "text": [
        "\n",
        "http://www.cbssports.com/nba/players/playerpage/400554/Dahntay-Jones"
       ]
      },
      {
       "output_type": "stream",
       "stream": "stdout",
       "text": [
        "\n",
        "http://www.cbssports.com/nba/players/playerpage/2018459/DeQuan-Jones"
       ]
      },
      {
       "output_type": "stream",
       "stream": "stdout",
       "text": [
        "\n",
        "http://www.cbssports.com/nba/players/playerpage/563941/Dwayne-Jones"
       ]
      },
      {
       "output_type": "stream",
       "stream": "stdout",
       "text": [
        "\n",
        "http://www.cbssports.com/nba/players/playerpage/400555/James-Jones"
       ]
      },
      {
       "output_type": "stream",
       "stream": "stdout",
       "text": [
        "\n",
        "http://www.cbssports.com/nba/players/playerpage/2019966/Kevin-Jones"
       ]
      },
      {
       "output_type": "stream",
       "stream": "stdout",
       "text": [
        "\n",
        "http://www.cbssports.com/nba/players/playerpage/1992802/Perry-Jones"
       ]
      },
      {
       "output_type": "stream",
       "stream": "stdout",
       "text": [
        "\n",
        "http://www.cbssports.com/nba/players/playerpage/2147583/Shawn-Jones"
       ]
      },
      {
       "output_type": "stream",
       "stream": "stdout",
       "text": [
        "\n",
        "http://www.cbssports.com/nba/players/playerpage/1113163/Solomon-Jones"
       ]
      },
      {
       "output_type": "stream",
       "stream": "stdout",
       "text": [
        "\n",
        "http://www.cbssports.com/nba/players/playerpage/1992801/Terrence-Jones"
       ]
      },
      {
       "output_type": "stream",
       "stream": "stdout",
       "text": [
        "\n",
        "http://www.cbssports.com/nba/players/playerpage/1622506/DeAndre-Jordan"
       ]
      },
      {
       "output_type": "stream",
       "stream": "stdout",
       "text": [
        "\n",
        "http://www.cbssports.com/nba/players/playerpage/1755233/Jerome-Jordan"
       ]
      },
      {
       "output_type": "stream",
       "stream": "stdout",
       "text": [
        "\n",
        "http://www.cbssports.com/nba/players/playerpage/1780847/Cory-Joseph"
       ]
      },
      {
       "output_type": "stream",
       "stream": "stdout",
       "text": [
        "\n",
        "http://www.cbssports.com/nba/players/playerpage/1992803/Kris-Joseph"
       ]
      },
      {
       "output_type": "stream",
       "stream": "stdout",
       "text": [
        "\n",
        "http://www.cbssports.com/nba/players/playerpage/400556/Chris-Kaman"
       ]
      },
      {
       "output_type": "stream",
       "stream": "stdout",
       "text": [
        "\n",
        "http://www.cbssports.com/nba/players/playerpage/1780162/Enes-Kanter"
       ]
      },
      {
       "output_type": "stream",
       "stream": "stdout",
       "text": [
        "\n",
        "http://www.cbssports.com/nba/players/playerpage/400557/Jason-Kapono"
       ]
      },
      {
       "output_type": "stream",
       "stream": "stdout",
       "text": [
        "\n",
        "http://www.cbssports.com/nba/players/playerpage/2067678/Sergey-Karasev"
       ]
      },
      {
       "output_type": "stream",
       "stream": "stdout",
       "text": [
        "\n",
        "http://www.cbssports.com/nba/players/playerpage/2067680/Ryan-Kelly"
       ]
      },
      {
       "output_type": "stream",
       "stream": "stdout",
       "text": [
        "\n",
        "http://www.cbssports.com/nba/players/playerpage/1333770/D.J.-Kennedy"
       ]
      },
      {
       "output_type": "stream",
       "stream": "stdout",
       "text": [
        "\n",
        "http://www.cbssports.com/nba/players/playerpage/1992805/Michael-Kidd-Gilchrist"
       ]
      },
      {
       "output_type": "stream",
       "stream": "stdout",
       "text": [
        "\n",
        "http://www.cbssports.com/nba/players/playerpage/2156210/Sean-Kilpatrick"
       ]
      },
      {
       "output_type": "stream",
       "stream": "stdout",
       "text": [
        "\n",
        "http://www.cbssports.com/nba/players/playerpage/139076/Andrei-Kirilenko"
       ]
      },
      {
       "output_type": "stream",
       "stream": "stdout",
       "text": [
        "\n",
        "http://www.cbssports.com/nba/players/playerpage/2144542/Alex-Kirk"
       ]
      },
      {
       "output_type": "stream",
       "stream": "stdout",
       "text": [
        "\n",
        "http://www.cbssports.com/nba/players/playerpage/555960/Linas-Kleiza"
       ]
      },
      {
       "output_type": "stream",
       "stream": "stdout",
       "text": [
        "\n",
        "http://www.cbssports.com/nba/players/playerpage/1780163/Brandon-Knight"
       ]
      },
      {
       "output_type": "stream",
       "stream": "stdout",
       "text": [
        "\n",
        "http://www.cbssports.com/nba/players/playerpage/400558/Kyle-Korver"
       ]
      },
      {
       "output_type": "stream",
       "stream": "stdout",
       "text": [
        "\n",
        "http://www.cbssports.com/nba/players/playerpage/1622541/Kosta-Koufos"
       ]
      },
      {
       "output_type": "stream",
       "stream": "stdout",
       "text": [
        "\n",
        "http://www.cbssports.com/nba/players/playerpage/1995500/Viacheslav-Kravtsov"
       ]
      },
      {
       "output_type": "stream",
       "stream": "stdout",
       "text": [
        "\n",
        "http://www.cbssports.com/nba/players/playerpage/1992806/Ognjen-Kuzmic"
       ]
      },
      {
       "output_type": "stream",
       "stream": "stdout",
       "text": [
        "\n",
        "http://www.cbssports.com/nba/players/playerpage/2135543/Zach-LaVine"
       ]
      },
      {
       "output_type": "stream",
       "stream": "stdout",
       "text": [
        "\n",
        "http://www.cbssports.com/nba/players/playerpage/2135544/Louis-Labeyrie"
       ]
      },
      {
       "output_type": "stream",
       "stream": "stdout",
       "text": [
        "\n",
        "http://www.cbssports.com/nba/players/playerpage/1992807/Doron-Lamb"
       ]
      },
      {
       "output_type": "stream",
       "stream": "stdout",
       "text": [
        "\n",
        "http://www.cbssports.com/nba/players/playerpage/1992808/Jeremy-Lamb"
       ]
      },
      {
       "output_type": "stream",
       "stream": "stdout",
       "text": [
        "\n",
        "http://www.cbssports.com/nba/players/playerpage/1231881/Carl-Landry"
       ]
      },
      {
       "output_type": "stream",
       "stream": "stdout",
       "text": [
        "\n",
        "http://www.cbssports.com/nba/players/playerpage/1708280/Marcus-Landry"
       ]
      },
      {
       "output_type": "stream",
       "stream": "stdout",
       "text": [
        "\n",
        "http://www.cbssports.com/nba/players/playerpage/2067681/Shane-Larkin"
       ]
      },
      {
       "output_type": "stream",
       "stream": "stdout",
       "text": [
        "\n",
        "http://www.cbssports.com/nba/players/playerpage/2021732/Dallas-Lauderdale"
       ]
      },
      {
       "output_type": "stream",
       "stream": "stdout",
       "text": [
        "\n",
        "http://www.cbssports.com/nba/players/playerpage/1755234/Gani-Lawal"
       ]
      },
      {
       "output_type": "stream",
       "stream": "stdout",
       "text": [
        "\n",
        "http://www.cbssports.com/nba/players/playerpage/1685259/Ty-Lawson"
       ]
      },
      {
       "output_type": "stream",
       "stream": "stdout",
       "text": [
        "\n",
        "http://www.cbssports.com/nba/players/playerpage/2067682/Ricky-Ledo"
       ]
      },
      {
       "output_type": "stream",
       "stream": "stdout",
       "text": [
        "\n",
        "http://www.cbssports.com/nba/players/playerpage/1622542/Courtney-Lee"
       ]
      },
      {
       "output_type": "stream",
       "stream": "stdout",
       "text": [
        "\n",
        "http://www.cbssports.com/nba/players/playerpage/555962/David-Lee"
       ]
      },
      {
       "output_type": "stream",
       "stream": "stdout",
       "text": [
        "\n",
        "http://www.cbssports.com/nba/players/playerpage/1647448/Malcolm-Lee"
       ]
      },
      {
       "output_type": "stream",
       "stream": "stdout",
       "text": [
        "\n",
        "http://www.cbssports.com/nba/players/playerpage/2067683/Alex-Len"
       ]
      },
      {
       "output_type": "stream",
       "stream": "stdout",
       "text": [
        "\n",
        "http://www.cbssports.com/nba/players/playerpage/1715792/Kawhi-Leonard"
       ]
      },
      {
       "output_type": "stream",
       "stream": "stdout",
       "text": [
        "\n",
        "http://www.cbssports.com/nba/players/playerpage/1992809/Meyers-Leonard"
       ]
      },
      {
       "output_type": "stream",
       "stream": "stdout",
       "text": [
        "\n",
        "http://www.cbssports.com/nba/players/playerpage/1334069/Jon-Leuer"
       ]
      },
      {
       "output_type": "stream",
       "stream": "stdout",
       "text": [
        "\n",
        "http://www.cbssports.com/nba/players/playerpage/1622507/Maarty-Leunen"
       ]
      },
      {
       "output_type": "stream",
       "stream": "stdout",
       "text": [
        "\n",
        "http://www.cbssports.com/nba/players/playerpage/20613/Rashard-Lewis"
       ]
      },
      {
       "output_type": "stream",
       "stream": "stdout",
       "text": [
        "\n",
        "http://www.cbssports.com/nba/players/playerpage/1646587/DeAndre-Liggins"
       ]
      },
      {
       "output_type": "stream",
       "stream": "stdout",
       "text": [
        "\n",
        "http://www.cbssports.com/nba/players/playerpage/1992810/Damian-Lillard"
       ]
      },
      {
       "output_type": "stream",
       "stream": "stdout",
       "text": [
        "\n",
        "http://www.cbssports.com/nba/players/playerpage/1758395/Jeremy-Lin"
       ]
      },
      {
       "output_type": "stream",
       "stream": "stdout",
       "text": [
        "\n",
        "http://www.cbssports.com/nba/players/playerpage/498296/Shaun-Livingston"
       ]
      },
      {
       "output_type": "stream",
       "stream": "stdout",
       "text": [
        "\n",
        "http://www.cbssports.com/nba/players/playerpage/1685219/Sergio-Llull"
       ]
      },
      {
       "output_type": "stream",
       "stream": "stdout",
       "text": [
        "\n",
        "http://www.cbssports.com/nba/players/playerpage/1622544/Brook-Lopez"
       ]
      },
      {
       "output_type": "stream",
       "stream": "stdout",
       "text": [
        "\n",
        "http://www.cbssports.com/nba/players/playerpage/1622543/Robin-Lopez"
       ]
      },
      {
       "output_type": "stream",
       "stream": "stdout",
       "text": [
        "\n",
        "http://www.cbssports.com/nba/players/playerpage/1622545/Kevin-Love"
       ]
      },
      {
       "output_type": "stream",
       "stream": "stdout",
       "text": [
        "\n",
        "http://www.cbssports.com/nba/players/playerpage/1113164/Kyle-Lowry"
       ]
      },
      {
       "output_type": "stream",
       "stream": "stdout",
       "text": [
        "\n",
        "http://www.cbssports.com/nba/players/playerpage/567659/John-Lucas"
       ]
      },
      {
       "output_type": "stream",
       "stream": "stdout",
       "text": [
        "\n",
        "http://www.cbssports.com/nba/players/playerpage/1333263/Kalin-Lucas"
       ]
      },
      {
       "output_type": "stream",
       "stream": "stdout",
       "text": [
        "\n",
        "http://www.cbssports.com/nba/players/playerpage/2011733/Scott-Machado"
       ]
      },
      {
       "output_type": "stream",
       "stream": "stdout",
       "text": [
        "\n",
        "http://www.cbssports.com/nba/players/playerpage/1646051/Shelvin-Mack"
       ]
      },
      {
       "output_type": "stream",
       "stream": "stdout",
       "text": [
        "\n",
        "http://www.cbssports.com/nba/players/playerpage/1139252/Vernon-Macklin"
       ]
      },
      {
       "output_type": "stream",
       "stream": "stdout",
       "text": [
        "\n",
        "http://www.cbssports.com/nba/players/playerpage/139083/Corey-Maggette"
       ]
      },
      {
       "output_type": "stream",
       "stream": "stdout",
       "text": [
        "\n",
        "http://www.cbssports.com/nba/players/playerpage/555964/Ian-Mahinmi"
       ]
      },
      {
       "output_type": "stream",
       "stream": "stdout",
       "text": [
        "\n",
        "http://www.cbssports.com/nba/players/playerpage/2135545/Devyn-Marble"
       ]
      },
      {
       "output_type": "stream",
       "stream": "stdout",
       "text": [
        "\n",
        "http://www.cbssports.com/nba/players/playerpage/139084/Shawn-Marion"
       ]
      },
      {
       "output_type": "stream",
       "stream": "stdout",
       "text": [
        "\n",
        "http://www.cbssports.com/nba/players/playerpage/1992811/Kendall-Marshall"
       ]
      },
      {
       "output_type": "stream",
       "stream": "stdout",
       "text": [
        "\n",
        "http://www.cbssports.com/nba/players/playerpage/1661840/Cartier-Martin"
       ]
      },
      {
       "output_type": "stream",
       "stream": "stdout",
       "text": [
        "\n",
        "http://www.cbssports.com/nba/players/playerpage/196333/Kenyon-Martin"
       ]
      },
      {
       "output_type": "stream",
       "stream": "stdout",
       "text": [
        "\n",
        "http://www.cbssports.com/nba/players/playerpage/498297/Kevin-Martin"
       ]
      },
      {
       "output_type": "stream",
       "stream": "stdout",
       "text": [
        "\n",
        "http://www.cbssports.com/nba/players/playerpage/307847/Roger-Mason Jr."
       ]
      },
      {
       "output_type": "stream",
       "stream": "stdout",
       "text": [
        "\n",
        "http://www.cbssports.com/nba/players/playerpage/1713441/Wesley-Matthews"
       ]
      },
      {
       "output_type": "stream",
       "stream": "stdout",
       "text": [
        "\n",
        "http://www.cbssports.com/nba/players/playerpage/1113166/Loukas-Mavrokefalidis"
       ]
      },
      {
       "output_type": "stream",
       "stream": "stdout",
       "text": [
        "\n",
        "http://www.cbssports.com/nba/players/playerpage/555965/Jason-Maxiell"
       ]
      },
      {
       "output_type": "stream",
       "stream": "stdout",
       "text": [
        "\n",
        "http://www.cbssports.com/nba/players/playerpage/1685260/Eric-Maynor"
       ]
      },
      {
       "output_type": "stream",
       "stream": "stdout",
       "text": [
        "\n",
        "http://www.cbssports.com/nba/players/playerpage/1622546/O.J.-Mayo"
       ]
      },
      {
       "output_type": "stream",
       "stream": "stdout",
       "text": [
        "\n",
        "http://www.cbssports.com/nba/players/playerpage/501024/Didier-Mbenga"
       ]
      },
      {
       "output_type": "stream",
       "stream": "stdout",
       "text": [
        "\n",
        "http://www.cbssports.com/nba/players/playerpage/2146347/James-McAdoo"
       ]
      },
      {
       "output_type": "stream",
       "stream": "stdout",
       "text": [
        "\n",
        "http://www.cbssports.com/nba/players/playerpage/2067684/Ray Jr.-McCallum"
       ]
      },
      {
       "output_type": "stream",
       "stream": "stdout",
       "text": [
        "\n",
        "http://www.cbssports.com/nba/players/playerpage/1685261/Jack-McClinton"
       ]
      },
      {
       "output_type": "stream",
       "stream": "stdout",
       "text": [
        "\n",
        "http://www.cbssports.com/nba/players/playerpage/2067685/CJ-McCollum"
       ]
      },
      {
       "output_type": "stream",
       "stream": "stdout",
       "text": [
        "\n",
        "http://www.cbssports.com/nba/players/playerpage/2135546/K.J.-McDaniels"
       ]
      },
      {
       "output_type": "stream",
       "stream": "stdout",
       "text": [
        "\n",
        "http://www.cbssports.com/nba/players/playerpage/2135547/Doug-McDermott"
       ]
      },
      {
       "output_type": "stream",
       "stream": "stdout",
       "text": [
        "\n",
        "http://www.cbssports.com/nba/players/playerpage/2135548/Mitch-McGary"
       ]
      },
      {
       "output_type": "stream",
       "stream": "stdout",
       "text": [
        "\n",
        "http://www.cbssports.com/nba/players/playerpage/1622547/JaVale-McGee"
       ]
      },
      {
       "output_type": "stream",
       "stream": "stdout",
       "text": [
        "\n",
        "http://www.cbssports.com/nba/players/playerpage/2101669/Rodney-McGruder"
       ]
      },
      {
       "output_type": "stream",
       "stream": "stdout",
       "text": [
        "\n",
        "http://www.cbssports.com/nba/players/playerpage/1231884/Dominic-McGuire"
       ]
      },
      {
       "output_type": "stream",
       "stream": "stdout",
       "text": [
        "\n",
        "http://www.cbssports.com/nba/players/playerpage/2067686/Ben-McLemore"
       ]
      },
      {
       "output_type": "stream",
       "stream": "stdout",
       "text": [
        "\n",
        "http://www.cbssports.com/nba/players/playerpage/2135549/Jordan-McRae"
       ]
      },
      {
       "output_type": "stream",
       "stream": "stdout",
       "text": [
        "\n",
        "http://www.cbssports.com/nba/players/playerpage/1231885/Josh-McRoberts"
       ]
      },
      {
       "output_type": "stream",
       "stream": "stdout",
       "text": [
        "\n",
        "http://www.cbssports.com/nba/players/playerpage/1685262/Jodie-Meeks"
       ]
      },
      {
       "output_type": "stream",
       "stream": "stdout",
       "text": [
        "\n",
        "http://www.cbssports.com/nba/players/playerpage/2070194/Gal-Mekel"
       ]
      },
      {
       "output_type": "stream",
       "stream": "stdout",
       "text": [
        "\n",
        "http://www.cbssports.com/nba/players/playerpage/1992812/Fab-Melo"
       ]
      },
      {
       "output_type": "stream",
       "stream": "stdout",
       "text": [
        "\n",
        "http://www.cbssports.com/nba/players/playerpage/1116709/Pops-Mensah-Bonsu"
       ]
      },
      {
       "output_type": "stream",
       "stream": "stdout",
       "text": [
        "\n",
        "http://www.cbssports.com/nba/players/playerpage/2135550/Vasilije-Micic"
       ]
      },
      {
       "output_type": "stream",
       "stream": "stdout",
       "text": [
        "\n",
        "http://www.cbssports.com/nba/players/playerpage/1992813/Khris-Middleton"
       ]
      },
      {
       "output_type": "stream",
       "stream": "stdout",
       "text": [
        "\n",
        "http://www.cbssports.com/nba/players/playerpage/555968/C.J.-Miles"
       ]
      },
      {
       "output_type": "stream",
       "stream": "stdout",
       "text": [
        "\n",
        "http://www.cbssports.com/nba/players/playerpage/139085/Andre-Miller"
       ]
      },
      {
       "output_type": "stream",
       "stream": "stdout",
       "text": [
        "\n",
        "http://www.cbssports.com/nba/players/playerpage/1992814/Darius-Miller"
       ]
      },
      {
       "output_type": "stream",
       "stream": "stdout",
       "text": [
        "\n",
        "http://www.cbssports.com/nba/players/playerpage/196339/Mike-Miller"
       ]
      },
      {
       "output_type": "stream",
       "stream": "stdout",
       "text": [
        "\n",
        "http://www.cbssports.com/nba/players/playerpage/1992815/Quincy-Miller"
       ]
      },
      {
       "output_type": "stream",
       "stream": "stdout",
       "text": [
        "\n",
        "http://www.cbssports.com/nba/players/playerpage/1685263/Patty-Mills"
       ]
      },
      {
       "output_type": "stream",
       "stream": "stdout",
       "text": [
        "\n",
        "http://www.cbssports.com/nba/players/playerpage/1777014/Elijah-Millsap"
       ]
      },
      {
       "output_type": "stream",
       "stream": "stdout",
       "text": [
        "\n",
        "http://www.cbssports.com/nba/players/playerpage/1113167/Paul-Millsap"
       ]
      },
      {
       "output_type": "stream",
       "stream": "stdout",
       "text": [
        "\n",
        "http://www.cbssports.com/nba/players/playerpage/1831127/Nikola-Mirotic"
       ]
      },
      {
       "output_type": "stream",
       "stream": "stdout",
       "text": [
        "\n",
        "http://www.cbssports.com/nba/players/playerpage/2155451/Akil-Mitchell"
       ]
      },
      {
       "output_type": "stream",
       "stream": "stdout",
       "text": [
        "\n",
        "http://www.cbssports.com/nba/players/playerpage/2067687/Tony-Mitchell"
       ]
      },
      {
       "output_type": "stream",
       "stream": "stdout",
       "text": [
        "\n",
        "http://www.cbssports.com/nba/players/playerpage/2021583/Tony-Mitchell"
       ]
      },
      {
       "output_type": "stream",
       "stream": "stdout",
       "text": [
        "\n",
        "http://www.cbssports.com/nba/players/playerpage/20620/Nazr-Mohammed"
       ]
      },
      {
       "output_type": "stream",
       "stream": "stdout",
       "text": [
        "\n",
        "http://www.cbssports.com/nba/players/playerpage/1755186/Greg-Monroe"
       ]
      },
      {
       "output_type": "stream",
       "stream": "stdout",
       "text": [
        "\n",
        "http://www.cbssports.com/nba/players/playerpage/1333602/E'Twaun-Moore"
       ]
      },
      {
       "output_type": "stream",
       "stream": "stdout",
       "text": [
        "\n",
        "http://www.cbssports.com/nba/players/playerpage/2138923/Eric-Moreland"
       ]
      },
      {
       "output_type": "stream",
       "stream": "stdout",
       "text": [
        "\n",
        "http://www.cbssports.com/nba/players/playerpage/1715410/Darius-Morris"
       ]
      },
      {
       "output_type": "stream",
       "stream": "stdout",
       "text": [
        "\n",
        "http://www.cbssports.com/nba/players/playerpage/1646569/Marcus-Morris"
       ]
      },
      {
       "output_type": "stream",
       "stream": "stdout",
       "text": [
        "\n",
        "http://www.cbssports.com/nba/players/playerpage/1646570/Markieff-Morris"
       ]
      },
      {
       "output_type": "stream",
       "stream": "stdout",
       "text": [
        "\n",
        "http://www.cbssports.com/nba/players/playerpage/1626545/Anthony-Morrow"
       ]
      },
      {
       "output_type": "stream",
       "stream": "stdout",
       "text": [
        "\n",
        "http://www.cbssports.com/nba/players/playerpage/1751161/Donatas-Motiejunas"
       ]
      },
      {
       "output_type": "stream",
       "stream": "stdout",
       "text": [
        "\n",
        "http://www.cbssports.com/nba/players/playerpage/2146140/Brock-Motum"
       ]
      },
      {
       "output_type": "stream",
       "stream": "stdout",
       "text": [
        "\n",
        "http://www.cbssports.com/nba/players/playerpage/1992816/Arnett-Moultrie"
       ]
      },
      {
       "output_type": "stream",
       "stream": "stdout",
       "text": [
        "\n",
        "http://www.cbssports.com/nba/players/playerpage/1622508/Luc Richard Mbah a-Moute"
       ]
      },
      {
       "output_type": "stream",
       "stream": "stdout",
       "text": [
        "\n",
        "http://www.cbssports.com/nba/players/playerpage/1757749/Timofey-Mozgov"
       ]
      },
      {
       "output_type": "stream",
       "stream": "stdout",
       "text": [
        "\n",
        "http://www.cbssports.com/nba/players/playerpage/2067688/Shabazz-Muhammad"
       ]
      },
      {
       "output_type": "stream",
       "stream": "stdout",
       "text": [
        "\n",
        "http://www.cbssports.com/nba/players/playerpage/1685220/Byron-Mullens"
       ]
      },
      {
       "output_type": "stream",
       "stream": "stdout",
       "text": [
        "\n",
        "http://www.cbssports.com/nba/players/playerpage/2067689/Erik-Murphy"
       ]
      },
      {
       "output_type": "stream",
       "stream": "stdout",
       "text": [
        "\n",
        "http://www.cbssports.com/nba/players/playerpage/1992817/Kevin-Murphy"
       ]
      },
      {
       "output_type": "stream",
       "stream": "stdout",
       "text": [
        "\n",
        "http://www.cbssports.com/nba/players/playerpage/2094202/Toure'-Murry"
       ]
      },
      {
       "output_type": "stream",
       "stream": "stdout",
       "text": [
        "\n",
        "http://www.cbssports.com/nba/players/playerpage/2067690/Mike-Muscala"
       ]
      },
      {
       "output_type": "stream",
       "stream": "stdout",
       "text": [
        "\n",
        "http://www.cbssports.com/nba/players/playerpage/2135551/Clint-N'Dumba-Capela"
       ]
      },
      {
       "output_type": "stream",
       "stream": "stdout",
       "text": [
        "\n",
        "http://www.cbssports.com/nba/players/playerpage/2135552/Shabazz-Napier"
       ]
      },
      {
       "output_type": "stream",
       "stream": "stdout",
       "text": [
        "\n",
        "http://www.cbssports.com/nba/players/playerpage/6715/Steve-Nash"
       ]
      },
      {
       "output_type": "stream",
       "stream": "stdout",
       "text": [
        "\n",
        "http://www.cbssports.com/nba/players/playerpage/1755235/Hamady-Ndiaye"
       ]
      },
      {
       "output_type": "stream",
       "stream": "stdout",
       "text": [
        "\n",
        "http://www.cbssports.com/nba/players/playerpage/1758396/Gary-Neal"
       ]
      },
      {
       "output_type": "stream",
       "stream": "stdout",
       "text": [
        "\n",
        "http://www.cbssports.com/nba/players/playerpage/2067691/Nemanja-Nedovic"
       ]
      },
      {
       "output_type": "stream",
       "stream": "stdout",
       "text": [
        "\n",
        "http://www.cbssports.com/nba/players/playerpage/498301/Jameer-Nelson"
       ]
      },
      {
       "output_type": "stream",
       "stream": "stdout",
       "text": [
        "\n",
        "http://www.cbssports.com/nba/players/playerpage/307834/nan-Nene"
       ]
      },
      {
       "output_type": "stream",
       "stream": "stdout",
       "text": [
        "\n",
        "http://www.cbssports.com/nba/players/playerpage/2067692/Raulzinho-Neto"
       ]
      },
      {
       "output_type": "stream",
       "stream": "stdout",
       "text": [
        "\n",
        "http://www.cbssports.com/nba/players/playerpage/1231887/Brad-Newley"
       ]
      },
      {
       "output_type": "stream",
       "stream": "stdout",
       "text": [
        "\n",
        "http://www.cbssports.com/nba/players/playerpage/1992818/Andrew-Nicholson"
       ]
      },
      {
       "output_type": "stream",
       "stream": "stdout",
       "text": [
        "\n",
        "http://www.cbssports.com/nba/players/playerpage/1685221/Ahmad-Nivins"
       ]
      },
      {
       "output_type": "stream",
       "stream": "stdout",
       "text": [
        "\n",
        "http://www.cbssports.com/nba/players/playerpage/1231889/Joakim-Noah"
       ]
      },
      {
       "output_type": "stream",
       "stream": "stdout",
       "text": [
        "\n",
        "http://www.cbssports.com/nba/players/playerpage/2067693/Nerlens-Noel"
       ]
      },
      {
       "output_type": "stream",
       "stream": "stdout",
       "text": [
        "\n",
        "http://www.cbssports.com/nba/players/playerpage/1831129/Lucas-Nogueira"
       ]
      },
      {
       "output_type": "stream",
       "stream": "stdout",
       "text": [
        "\n",
        "http://www.cbssports.com/nba/players/playerpage/1685264/Henk-Norel"
       ]
      },
      {
       "output_type": "stream",
       "stream": "stdout",
       "text": [
        "\n",
        "http://www.cbssports.com/nba/players/playerpage/1113170/Steve-Novak"
       ]
      },
      {
       "output_type": "stream",
       "stream": "stdout",
       "text": [
        "\n",
        "http://www.cbssports.com/nba/players/playerpage/20622/Dirk-Nowitzki"
       ]
      },
      {
       "output_type": "stream",
       "stream": "stdout",
       "text": [
        "\n",
        "http://www.cbssports.com/nba/players/playerpage/2102169/James-Nunnally"
       ]
      },
      {
       "output_type": "stream",
       "stream": "stdout",
       "text": [
        "\n",
        "http://www.cbssports.com/nba/players/playerpage/2135553/Jusuf-Nurkic"
       ]
      },
      {
       "output_type": "stream",
       "stream": "stdout",
       "text": [
        "\n",
        "http://www.cbssports.com/nba/players/playerpage/2135554/Johnny-O'Bryant"
       ]
      },
      {
       "output_type": "stream",
       "stream": "stdout",
       "text": [
        "\n",
        "http://www.cbssports.com/nba/players/playerpage/1113171/Patrick-O'Bryant"
       ]
      },
      {
       "output_type": "stream",
       "stream": "stdout",
       "text": [
        "\n",
        "http://www.cbssports.com/nba/players/playerpage/6724/Jermaine-O'Neal"
       ]
      },
      {
       "output_type": "stream",
       "stream": "stdout",
       "text": [
        "\n",
        "http://www.cbssports.com/nba/players/playerpage/1992819/Kyle-O'Quinn"
       ]
      },
      {
       "output_type": "stream",
       "stream": "stdout",
       "text": [
        "\n",
        "http://www.cbssports.com/nba/players/playerpage/1231890/Greg-Oden"
       ]
      },
      {
       "output_type": "stream",
       "stream": "stdout",
       "text": [
        "\n",
        "http://www.cbssports.com/nba/players/playerpage/139087/Lamar-Odom"
       ]
      },
      {
       "output_type": "stream",
       "stream": "stdout",
       "text": [
        "\n",
        "http://www.cbssports.com/nba/players/playerpage/2044266/Tim-Ohlbrecht"
       ]
      },
      {
       "output_type": "stream",
       "stream": "stdout",
       "text": [
        "\n",
        "http://www.cbssports.com/nba/players/playerpage/498302/Emeka-Okafor"
       ]
      },
      {
       "output_type": "stream",
       "stream": "stdout",
       "text": [
        "\n",
        "http://www.cbssports.com/nba/players/playerpage/2067694/Victor-Oladipo"
       ]
      },
      {
       "output_type": "stream",
       "stream": "stdout",
       "text": [
        "\n",
        "http://www.cbssports.com/nba/players/playerpage/2067695/Kelly-Olynyk"
       ]
      },
      {
       "output_type": "stream",
       "stream": "stdout",
       "text": [
        "\n",
        "http://www.cbssports.com/nba/players/playerpage/2089274/Arinze-Onuaku"
       ]
      },
      {
       "output_type": "stream",
       "stream": "stdout",
       "text": [
        "\n",
        "http://www.cbssports.com/nba/players/playerpage/1755236/Daniel-Orton"
       ]
      },
      {
       "output_type": "stream",
       "stream": "stdout",
       "text": [
        "\n",
        "http://www.cbssports.com/nba/players/playerpage/400563/Travis-Outlaw"
       ]
      },
      {
       "output_type": "stream",
       "stream": "stdout",
       "text": [
        "\n",
        "http://www.cbssports.com/nba/players/playerpage/400564/Zaza-Pachulia"
       ]
      },
      {
       "output_type": "stream",
       "stream": "stdout",
       "text": [
        "\n",
        "http://www.cbssports.com/nba/players/playerpage/1992820/Kostas-Papanikolaou"
       ]
      },
      {
       "output_type": "stream",
       "stream": "stdout",
       "text": [
        "\n",
        "http://www.cbssports.com/nba/players/playerpage/372380/Jannero-Pargo"
       ]
      },
      {
       "output_type": "stream",
       "stream": "stdout",
       "text": [
        "\n",
        "http://www.cbssports.com/nba/players/playerpage/1926949/Jeremy-Pargo"
       ]
      },
      {
       "output_type": "stream",
       "stream": "stdout",
       "text": [
        "\n",
        "http://www.cbssports.com/nba/players/playerpage/2135555/Jabari-Parker"
       ]
      },
      {
       "output_type": "stream",
       "stream": "stdout",
       "text": [
        "\n",
        "http://www.cbssports.com/nba/players/playerpage/240304/Tony-Parker"
       ]
      },
      {
       "output_type": "stream",
       "stream": "stdout",
       "text": [
        "\n",
        "http://www.cbssports.com/nba/players/playerpage/1332461/Chandler-Parsons"
       ]
      },
      {
       "output_type": "stream",
       "stream": "stdout",
       "text": [
        "\n",
        "http://www.cbssports.com/nba/players/playerpage/2135556/Lamar-Patterson"
       ]
      },
      {
       "output_type": "stream",
       "stream": "stdout",
       "text": [
        "\n",
        "http://www.cbssports.com/nba/players/playerpage/1755187/Patrick-Patterson"
       ]
      },
      {
       "output_type": "stream",
       "stream": "stdout",
       "text": [
        "\n",
        "http://www.cbssports.com/nba/players/playerpage/555969/Chris-Paul"
       ]
      },
      {
       "output_type": "stream",
       "stream": "stdout",
       "text": [
        "\n",
        "http://www.cbssports.com/nba/players/playerpage/2135557/Adreian-Payne"
       ]
      },
      {
       "output_type": "stream",
       "stream": "stdout",
       "text": [
        "\n",
        "http://www.cbssports.com/nba/players/playerpage/2135558/Elfrid-Payton"
       ]
      },
      {
       "output_type": "stream",
       "stream": "stdout",
       "text": [
        "\n",
        "http://www.cbssports.com/nba/players/playerpage/139045/Metta World-Peace"
       ]
      },
      {
       "output_type": "stream",
       "stream": "stdout",
       "text": [
        "\n",
        "http://www.cbssports.com/nba/players/playerpage/1622548/Nikola-Pekovic"
       ]
      },
      {
       "output_type": "stream",
       "stream": "stdout",
       "text": [
        "\n",
        "http://www.cbssports.com/nba/players/playerpage/400566/Kendrick-Perkins"
       ]
      },
      {
       "output_type": "stream",
       "stream": "stdout",
       "text": [
        "\n",
        "http://www.cbssports.com/nba/players/playerpage/20626/Paul-Pierce"
       ]
      },
      {
       "output_type": "stream",
       "stream": "stdout",
       "text": [
        "\n",
        "http://www.cbssports.com/nba/players/playerpage/1755237/Dexter-Pittman"
       ]
      },
      {
       "output_type": "stream",
       "stream": "stdout",
       "text": [
        "\n",
        "http://www.cbssports.com/nba/players/playerpage/2067698/Mason-Plumlee"
       ]
      },
      {
       "output_type": "stream",
       "stream": "stdout",
       "text": [
        "\n",
        "http://www.cbssports.com/nba/players/playerpage/1992821/Miles-Plumlee"
       ]
      },
      {
       "output_type": "stream",
       "stream": "stdout",
       "text": [
        "\n",
        "http://www.cbssports.com/nba/players/playerpage/1755188/Quincy-Pondexter"
       ]
      },
      {
       "output_type": "stream",
       "stream": "stdout",
       "text": [
        "\n",
        "http://www.cbssports.com/nba/players/playerpage/2067699/Otto-Porter"
       ]
      },
      {
       "output_type": "stream",
       "stream": "stdout",
       "text": [
        "\n",
        "http://www.cbssports.com/nba/players/playerpage/2135559/Dwight-Powell"
       ]
      },
      {
       "output_type": "stream",
       "stream": "stdout",
       "text": [
        "\n",
        "http://www.cbssports.com/nba/players/playerpage/402905/Josh-Powell"
       ]
      },
      {
       "output_type": "stream",
       "stream": "stdout",
       "text": [
        "\n",
        "http://www.cbssports.com/nba/players/playerpage/2155452/Casey-Prather"
       ]
      },
      {
       "output_type": "stream",
       "stream": "stdout",
       "text": [
        "\n",
        "http://www.cbssports.com/nba/players/playerpage/1685266/Emir-Preldzic"
       ]
      },
      {
       "output_type": "stream",
       "stream": "stdout",
       "text": [
        "\n",
        "http://www.cbssports.com/nba/players/playerpage/2073822/Phil-Pressey"
       ]
      },
      {
       "output_type": "stream",
       "stream": "stdout",
       "text": [
        "\n",
        "http://www.cbssports.com/nba/players/playerpage/1755239/Paulo-Prestes"
       ]
      },
      {
       "output_type": "stream",
       "stream": "stdout",
       "text": [
        "\n",
        "http://www.cbssports.com/nba/players/playerpage/1685222/A.J.-Price"
       ]
      },
      {
       "output_type": "stream",
       "stream": "stdout",
       "text": [
        "\n",
        "http://www.cbssports.com/nba/players/playerpage/559601/Ronnie-Price"
       ]
      },
      {
       "output_type": "stream",
       "stream": "stdout",
       "text": [
        "\n",
        "http://www.cbssports.com/nba/players/playerpage/2009746/Pablo-Prigioni"
       ]
      },
      {
       "output_type": "stream",
       "stream": "stdout",
       "text": [
        "\n",
        "http://www.cbssports.com/nba/players/playerpage/307853/Tayshaun-Prince"
       ]
      },
      {
       "output_type": "stream",
       "stream": "stdout",
       "text": [
        "\n",
        "http://www.cbssports.com/nba/players/playerpage/2147584/Brian-Qvale"
       ]
      },
      {
       "output_type": "stream",
       "stream": "stdout",
       "text": [
        "\n",
        "http://www.cbssports.com/nba/players/playerpage/2076044/Miroslav-Raduljica"
       ]
      },
      {
       "output_type": "stream",
       "stream": "stdout",
       "text": [
        "\n",
        "http://www.cbssports.com/nba/players/playerpage/1231893/Milovan-Rakovic"
       ]
      },
      {
       "output_type": "stream",
       "stream": "stdout",
       "text": [
        "\n",
        "http://www.cbssports.com/nba/players/playerpage/2135560/Julius-Randle"
       ]
      },
      {
       "output_type": "stream",
       "stream": "stdout",
       "text": [
        "\n",
        "http://www.cbssports.com/nba/players/playerpage/1622509/Anthony-Randolph"
       ]
      },
      {
       "output_type": "stream",
       "stream": "stdout",
       "text": [
        "\n",
        "http://www.cbssports.com/nba/players/playerpage/559810/Shavlik-Randolph"
       ]
      },
      {
       "output_type": "stream",
       "stream": "stdout",
       "text": [
        "\n",
        "http://www.cbssports.com/nba/players/playerpage/240306/Zach-Randolph"
       ]
      },
      {
       "output_type": "stream",
       "stream": "stdout",
       "text": [
        "\n",
        "http://www.cbssports.com/nba/players/playerpage/1113176/J.J.-Redick"
       ]
      },
      {
       "output_type": "stream",
       "stream": "stdout",
       "text": [
        "\n",
        "http://www.cbssports.com/nba/players/playerpage/1647156/Willie-Reed"
       ]
      },
      {
       "output_type": "stream",
       "stream": "stdout",
       "text": [
        "\n",
        "http://www.cbssports.com/nba/players/playerpage/2067700/Glen Jr.-Rice"
       ]
      },
      {
       "output_type": "stream",
       "stream": "stdout",
       "text": [
        "\n",
        "http://www.cbssports.com/nba/players/playerpage/1755242/Ryan-Richards"
       ]
      },
      {
       "output_type": "stream",
       "stream": "stdout",
       "text": [
        "\n",
        "http://www.cbssports.com/nba/players/playerpage/240307/Jason-Richardson"
       ]
      },
      {
       "output_type": "stream",
       "stream": "stdout",
       "text": [
        "\n",
        "http://www.cbssports.com/nba/players/playerpage/400570/Luke-Ridnour"
       ]
      },
      {
       "output_type": "stream",
       "stream": "stdout",
       "text": [
        "\n",
        "http://www.cbssports.com/nba/players/playerpage/1992822/Austin-Rivers"
       ]
      },
      {
       "output_type": "stream",
       "stream": "stdout",
       "text": [
        "\n",
        "http://www.cbssports.com/nba/players/playerpage/2067701/Andre-Roberson"
       ]
      },
      {
       "output_type": "stream",
       "stream": "stdout",
       "text": [
        "\n",
        "http://www.cbssports.com/nba/players/playerpage/2009747/Brian-Roberts"
       ]
      },
      {
       "output_type": "stream",
       "stream": "stdout",
       "text": [
        "\n",
        "http://www.cbssports.com/nba/players/playerpage/2147837/Ronald-Roberts"
       ]
      },
      {
       "output_type": "stream",
       "stream": "stdout",
       "text": [
        "\n",
        "http://www.cbssports.com/nba/players/playerpage/2135561/Glenn-Robinson"
       ]
      },
      {
       "output_type": "stream",
       "stream": "stdout",
       "text": [
        "\n",
        "http://www.cbssports.com/nba/players/playerpage/555972/Nate-Robinson"
       ]
      },
      {
       "output_type": "stream",
       "stream": "stdout",
       "text": [
        "\n",
        "http://www.cbssports.com/nba/players/playerpage/1992823/Thomas-Robinson"
       ]
      },
      {
       "output_type": "stream",
       "stream": "stdout",
       "text": [
        "\n",
        "http://www.cbssports.com/nba/players/playerpage/1113178/Rajon-Rondo"
       ]
      },
      {
       "output_type": "stream",
       "stream": "stdout",
       "text": [
        "\n",
        "http://www.cbssports.com/nba/players/playerpage/1622510/Derrick-Rose"
       ]
      },
      {
       "output_type": "stream",
       "stream": "stdout",
       "text": [
        "\n",
        "http://www.cbssports.com/nba/players/playerpage/1992824/Terrence-Ross"
       ]
      },
      {
       "output_type": "stream",
       "stream": "stdout",
       "text": [
        "\n",
        "http://www.cbssports.com/nba/players/playerpage/1685267/Ricky-Rubio"
       ]
      },
      {
       "output_type": "stream",
       "stream": "stdout",
       "text": [
        "\n",
        "http://www.cbssports.com/nba/players/playerpage/2136149/Damjan-Rudez"
       ]
      },
      {
       "output_type": "stream",
       "stream": "stdout",
       "text": [
        "\n",
        "http://www.cbssports.com/nba/players/playerpage/1622549/Brandon-Rush"
       ]
      },
      {
       "output_type": "stream",
       "stream": "stdout",
       "text": [
        "\n",
        "http://www.cbssports.com/nba/players/playerpage/1992825/Robert-Sacre"
       ]
      },
      {
       "output_type": "stream",
       "stream": "stdout",
       "text": [
        "\n",
        "http://www.cbssports.com/nba/players/playerpage/307855/John-Salmons"
       ]
      },
      {
       "output_type": "stream",
       "stream": "stdout",
       "text": [
        "\n",
        "http://www.cbssports.com/nba/players/playerpage/2147838/JaKarr-Sampson"
       ]
      },
      {
       "output_type": "stream",
       "stream": "stdout",
       "text": [
        "\n",
        "http://www.cbssports.com/nba/players/playerpage/2147096/Orlando-Sanchez"
       ]
      },
      {
       "output_type": "stream",
       "stream": "stdout",
       "text": [
        "\n",
        "http://www.cbssports.com/nba/players/playerpage/1755189/Larry-Sanders"
       ]
      },
      {
       "output_type": "stream",
       "stream": "stdout",
       "text": [
        "\n",
        "http://www.cbssports.com/nba/players/playerpage/2135562/Dario-Saric"
       ]
      },
      {
       "output_type": "stream",
       "stream": "stdout",
       "text": [
        "\n",
        "http://www.cbssports.com/nba/players/playerpage/2067702/Dennis-Schroder"
       ]
      },
      {
       "output_type": "stream",
       "stream": "stdout",
       "text": [
        "\n",
        "http://www.cbssports.com/nba/players/playerpage/307857/Luis-Scola"
       ]
      },
      {
       "output_type": "stream",
       "stream": "stdout",
       "text": [
        "\n",
        "http://www.cbssports.com/nba/players/playerpage/1992827/Mike-Scott"
       ]
      },
      {
       "output_type": "stream",
       "stream": "stdout",
       "text": [
        "\n",
        "http://www.cbssports.com/nba/players/playerpage/1113181/Thabo-Sefolosha"
       ]
      },
      {
       "output_type": "stream",
       "stream": "stdout",
       "text": [
        "\n",
        "http://www.cbssports.com/nba/players/playerpage/1231895/Renaldas-Seibutis"
       ]
      },
      {
       "output_type": "stream",
       "stream": "stdout",
       "text": [
        "\n",
        "http://www.cbssports.com/nba/players/playerpage/1755245/Kevin-Seraphin"
       ]
      },
      {
       "output_type": "stream",
       "stream": "stdout",
       "text": [
        "\n",
        "http://www.cbssports.com/nba/players/playerpage/1231896/Ramon-Sessions"
       ]
      },
      {
       "output_type": "stream",
       "stream": "stdout",
       "text": [
        "\n",
        "http://www.cbssports.com/nba/players/playerpage/1232116/Mustafa-Shakur"
       ]
      },
      {
       "output_type": "stream",
       "stream": "stdout",
       "text": [
        "\n",
        "http://www.cbssports.com/nba/players/playerpage/1992828/Tornike-Shengelia"
       ]
      },
      {
       "output_type": "stream",
       "stream": "stdout",
       "text": [
        "\n",
        "http://www.cbssports.com/nba/players/playerpage/1646428/Iman-Shumpert"
       ]
      },
      {
       "output_type": "stream",
       "stream": "stdout",
       "text": [
        "\n",
        "http://www.cbssports.com/nba/players/playerpage/2009748/Alexey-Shved"
       ]
      },
      {
       "output_type": "stream",
       "stream": "stdout",
       "text": [
        "\n",
        "http://www.cbssports.com/nba/players/playerpage/1139179/Xavier-Silas"
       ]
      },
      {
       "output_type": "stream",
       "stream": "stdout",
       "text": [
        "\n",
        "http://www.cbssports.com/nba/players/playerpage/2011989/Henry-Sims"
       ]
      },
      {
       "output_type": "stream",
       "stream": "stdout",
       "text": [
        "\n",
        "http://www.cbssports.com/nba/players/playerpage/1332840/Kyle-Singler"
       ]
      },
      {
       "output_type": "stream",
       "stream": "stdout",
       "text": [
        "\n",
        "http://www.cbssports.com/nba/players/playerpage/1646371/Chris-Singleton"
       ]
      },
      {
       "output_type": "stream",
       "stream": "stdout",
       "text": [
        "\n",
        "http://www.cbssports.com/nba/players/playerpage/2067703/Peyton-Siva"
       ]
      },
      {
       "output_type": "stream",
       "stream": "stdout",
       "text": [
        "\n",
        "http://www.cbssports.com/nba/players/playerpage/1765049/Donald-Sloan"
       ]
      },
      {
       "output_type": "stream",
       "stream": "stdout",
       "text": [
        "\n",
        "http://www.cbssports.com/nba/players/playerpage/2135563/Marcus-Smart"
       ]
      },
      {
       "output_type": "stream",
       "stream": "stdout",
       "text": [
        "\n",
        "http://www.cbssports.com/nba/players/playerpage/2009750/Chris-Smith"
       ]
      },
      {
       "output_type": "stream",
       "stream": "stdout",
       "text": [
        "\n",
        "http://www.cbssports.com/nba/players/playerpage/1646241/Greg-Smith"
       ]
      },
      {
       "output_type": "stream",
       "stream": "stdout",
       "text": [
        "\n",
        "http://www.cbssports.com/nba/players/playerpage/1766484/Ish-Smith"
       ]
      },
      {
       "output_type": "stream",
       "stream": "stdout",
       "text": [
        "\n",
        "http://www.cbssports.com/nba/players/playerpage/498313/J.R.-Smith"
       ]
      },
      {
       "output_type": "stream",
       "stream": "stdout",
       "text": [
        "\n",
        "http://www.cbssports.com/nba/players/playerpage/1231897/Jason-Smith"
       ]
      },
      {
       "output_type": "stream",
       "stream": "stdout",
       "text": [
        "\n",
        "http://www.cbssports.com/nba/players/playerpage/498314/Josh-Smith"
       ]
      },
      {
       "output_type": "stream",
       "stream": "stdout",
       "text": [
        "\n",
        "http://www.cbssports.com/nba/players/playerpage/2147656/Roscoe-Smith"
       ]
      },
      {
       "output_type": "stream",
       "stream": "stdout",
       "text": [
        "\n",
        "http://www.cbssports.com/nba/players/playerpage/2135564/Russ-Smith"
       ]
      },
      {
       "output_type": "stream",
       "stream": "stdout",
       "text": [
        "\n",
        "http://www.cbssports.com/nba/players/playerpage/2067704/Tony-Snell"
       ]
      },
      {
       "output_type": "stream",
       "stream": "stdout",
       "text": [
        "\n",
        "http://www.cbssports.com/nba/players/playerpage/2147839/Richard-Solomon"
       ]
      },
      {
       "output_type": "stream",
       "stream": "stdout",
       "text": [
        "\n",
        "http://www.cbssports.com/nba/players/playerpage/2093476/James-Southerland"
       ]
      },
      {
       "output_type": "stream",
       "stream": "stdout",
       "text": [
        "\n",
        "http://www.cbssports.com/nba/players/playerpage/1622551/Marreese-Speights"
       ]
      },
      {
       "output_type": "stream",
       "stream": "stdout",
       "text": [
        "\n",
        "http://www.cbssports.com/nba/players/playerpage/1231898/Tiago-Splitter"
       ]
      },
      {
       "output_type": "stream",
       "stream": "stdout",
       "text": [
        "\n",
        "http://www.cbssports.com/nba/players/playerpage/2135565/Nik-Stauskas"
       ]
      },
      {
       "output_type": "stream",
       "stream": "stdout",
       "text": [
        "\n",
        "http://www.cbssports.com/nba/players/playerpage/2122254/D.J.-Stephens"
       ]
      },
      {
       "output_type": "stream",
       "stream": "stdout",
       "text": [
        "\n",
        "http://www.cbssports.com/nba/players/playerpage/1755246/Lance-Stephenson"
       ]
      },
      {
       "output_type": "stream",
       "stream": "stdout",
       "text": [
        "\n",
        "http://www.cbssports.com/nba/players/playerpage/1744837/Greg-Stiemsma"
       ]
      },
      {
       "output_type": "stream",
       "stream": "stdout",
       "text": [
        "\n",
        "http://www.cbssports.com/nba/players/playerpage/2147657/David-Stockton"
       ]
      },
      {
       "output_type": "stream",
       "stream": "stdout",
       "text": [
        "\n",
        "http://www.cbssports.com/nba/players/playerpage/2135566/Jarnell-Stokes"
       ]
      },
      {
       "output_type": "stream",
       "stream": "stdout",
       "text": [
        "\n",
        "http://www.cbssports.com/nba/players/playerpage/1928773/Julyan-Stone"
       ]
      },
      {
       "output_type": "stream",
       "stream": "stdout",
       "text": [
        "\n",
        "http://www.cbssports.com/nba/players/playerpage/307861/Amar'e-Stoudemire"
       ]
      },
      {
       "output_type": "stream",
       "stream": "stdout",
       "text": [
        "\n",
        "http://www.cbssports.com/nba/players/playerpage/1231900/Rodney-Stuckey"
       ]
      },
      {
       "output_type": "stream",
       "stream": "stdout",
       "text": [
        "\n",
        "http://www.cbssports.com/nba/players/playerpage/1992829/Jared-Sullinger"
       ]
      },
      {
       "output_type": "stream",
       "stream": "stdout",
       "text": [
        "\n",
        "http://www.cbssports.com/nba/players/playerpage/2135567/Walter-Tavares"
       ]
      },
      {
       "output_type": "stream",
       "stream": "stdout",
       "text": [
        "\n",
        "http://www.cbssports.com/nba/players/playerpage/1992831/Jeff-Taylor"
       ]
      },
      {
       "output_type": "stream",
       "stream": "stdout",
       "text": [
        "\n",
        "http://www.cbssports.com/nba/players/playerpage/1685269/Jermaine-Taylor"
       ]
      },
      {
       "output_type": "stream",
       "stream": "stdout",
       "text": [
        "\n",
        "http://www.cbssports.com/nba/players/playerpage/1992830/Tyshawn-Taylor"
       ]
      },
      {
       "output_type": "stream",
       "stream": "stdout",
       "text": [
        "\n",
        "http://www.cbssports.com/nba/players/playerpage/1685224/Jeff-Teague"
       ]
      },
      {
       "output_type": "stream",
       "stream": "stdout",
       "text": [
        "\n",
        "http://www.cbssports.com/nba/players/playerpage/1992832/Marquis-Teague"
       ]
      },
      {
       "output_type": "stream",
       "stream": "stdout",
       "text": [
        "\n",
        "http://www.cbssports.com/nba/players/playerpage/2009751/Mirza-Teletovic"
       ]
      },
      {
       "output_type": "stream",
       "stream": "stdout",
       "text": [
        "\n",
        "http://www.cbssports.com/nba/players/playerpage/498320/Sebastian-Telfair"
       ]
      },
      {
       "output_type": "stream",
       "stream": "stdout",
       "text": [
        "\n",
        "http://www.cbssports.com/nba/players/playerpage/1708214/Garrett-Temple"
       ]
      },
      {
       "output_type": "stream",
       "stream": "stdout",
       "text": [
        "\n",
        "http://www.cbssports.com/nba/players/playerpage/139097/Jason-Terry"
       ]
      },
      {
       "output_type": "stream",
       "stream": "stdout",
       "text": [
        "\n",
        "http://www.cbssports.com/nba/players/playerpage/1685270/Hasheem-Thabeet"
       ]
      },
      {
       "output_type": "stream",
       "stream": "stdout",
       "text": [
        "\n",
        "http://www.cbssports.com/nba/players/playerpage/2135568/Xavier-Thames"
       ]
      },
      {
       "output_type": "stream",
       "stream": "stdout",
       "text": [
        "\n",
        "http://www.cbssports.com/nba/players/playerpage/2102170/Adonis-Thomas"
       ]
      },
      {
       "output_type": "stream",
       "stream": "stdout",
       "text": [
        "\n",
        "http://www.cbssports.com/nba/players/playerpage/1647553/Isaiah-Thomas"
       ]
      },
      {
       "output_type": "stream",
       "stream": "stdout",
       "text": [
        "\n",
        "http://www.cbssports.com/nba/players/playerpage/1926322/Lance-Thomas"
       ]
      },
      {
       "output_type": "stream",
       "stream": "stdout",
       "text": [
        "\n",
        "http://www.cbssports.com/nba/players/playerpage/1333550/Malcolm-Thomas"
       ]
      },
      {
       "output_type": "stream",
       "stream": "stdout",
       "text": [
        "\n",
        "http://www.cbssports.com/nba/players/playerpage/2009752/Hollis-Thompson"
       ]
      },
      {
       "output_type": "stream",
       "stream": "stdout",
       "text": [
        "\n",
        "http://www.cbssports.com/nba/players/playerpage/1622553/Jason-Thompson"
       ]
      },
      {
       "output_type": "stream",
       "stream": "stdout",
       "text": [
        "\n",
        "http://www.cbssports.com/nba/players/playerpage/1647559/Klay-Thompson"
       ]
      },
      {
       "output_type": "stream",
       "stream": "stdout",
       "text": [
        "\n",
        "http://www.cbssports.com/nba/players/playerpage/1333448/Tristan-Thompson"
       ]
      },
      {
       "output_type": "stream",
       "stream": "stdout",
       "text": [
        "\n",
        "http://www.cbssports.com/nba/players/playerpage/1685225/Marcus-Thornton"
       ]
      },
      {
       "output_type": "stream",
       "stream": "stdout",
       "text": [
        "\n",
        "http://www.cbssports.com/nba/players/playerpage/240313/Jamaal-Tinsley"
       ]
      },
      {
       "output_type": "stream",
       "stream": "stdout",
       "text": [
        "\n",
        "http://www.cbssports.com/nba/players/playerpage/2155650/Yuki-Togashi"
       ]
      },
      {
       "output_type": "stream",
       "stream": "stdout",
       "text": [
        "\n",
        "http://www.cbssports.com/nba/players/playerpage/1319584/Anthony-Tolliver"
       ]
      },
      {
       "output_type": "stream",
       "stream": "stdout",
       "text": [
        "\n",
        "http://www.cbssports.com/nba/players/playerpage/1622554/Ante-Tomic"
       ]
      },
      {
       "output_type": "stream",
       "stream": "stdout",
       "text": [
        "\n",
        "http://www.cbssports.com/nba/players/playerpage/1113186/P.J.-Tucker"
       ]
      },
      {
       "output_type": "stream",
       "stream": "stdout",
       "text": [
        "\n",
        "http://www.cbssports.com/nba/players/playerpage/555979/Ronny-Turiaf"
       ]
      },
      {
       "output_type": "stream",
       "stream": "stdout",
       "text": [
        "\n",
        "http://www.cbssports.com/nba/players/playerpage/196361/Hedo-Turkoglu"
       ]
      },
      {
       "output_type": "stream",
       "stream": "stdout",
       "text": [
        "\n",
        "http://www.cbssports.com/nba/players/playerpage/1755190/Evan-Turner"
       ]
      },
      {
       "output_type": "stream",
       "stream": "stdout",
       "text": [
        "\n",
        "http://www.cbssports.com/nba/players/playerpage/1831133/Jeremy-Tyler"
       ]
      },
      {
       "output_type": "stream",
       "stream": "stdout",
       "text": [
        "\n",
        "http://www.cbssports.com/nba/players/playerpage/1755191/Ekpe-Udoh"
       ]
      },
      {
       "output_type": "stream",
       "stream": "stdout",
       "text": [
        "\n",
        "http://www.cbssports.com/nba/players/playerpage/498321/Beno-Udrih"
       ]
      },
      {
       "output_type": "stream",
       "stream": "stdout",
       "text": [
        "\n",
        "http://www.cbssports.com/nba/players/playerpage/1113187/Ejike-Ugboaja"
       ]
      },
      {
       "output_type": "stream",
       "stream": "stdout",
       "text": [
        "\n",
        "http://www.cbssports.com/nba/players/playerpage/1831124/Jonas-Valanciunas"
       ]
      },
      {
       "output_type": "stream",
       "stream": "stdout",
       "text": [
        "\n",
        "http://www.cbssports.com/nba/players/playerpage/2156348/Jordan-Vandenberg"
       ]
      },
      {
       "output_type": "stream",
       "stream": "stdout",
       "text": [
        "\n",
        "http://www.cbssports.com/nba/players/playerpage/498322/Anderson-Varejao"
       ]
      },
      {
       "output_type": "stream",
       "stream": "stdout",
       "text": [
        "\n",
        "http://www.cbssports.com/nba/players/playerpage/1755248/Jarvis-Varnado"
       ]
      },
      {
       "output_type": "stream",
       "stream": "stdout",
       "text": [
        "\n",
        "http://www.cbssports.com/nba/players/playerpage/1755249/Greivis-Vasquez"
       ]
      },
      {
       "output_type": "stream",
       "stream": "stdout",
       "text": [
        "\n",
        "http://www.cbssports.com/nba/players/playerpage/1113188/Vladimir-Veremeenko"
       ]
      },
      {
       "output_type": "stream",
       "stream": "stdout",
       "text": [
        "\n",
        "http://www.cbssports.com/nba/players/playerpage/1751162/Jan-Vesely"
       ]
      },
      {
       "output_type": "stream",
       "stream": "stdout",
       "text": [
        "\n",
        "http://www.cbssports.com/nba/players/playerpage/555982/Charlie-Villanueva"
       ]
      },
      {
       "output_type": "stream",
       "stream": "stdout",
       "text": [
        "\n",
        "http://www.cbssports.com/nba/players/playerpage/2135569/Noah-Vonleh"
       ]
      },
      {
       "output_type": "stream",
       "stream": "stdout",
       "text": [
        "\n",
        "http://www.cbssports.com/nba/players/playerpage/1647481/Nikola-Vucevic"
       ]
      },
      {
       "output_type": "stream",
       "stream": "stdout",
       "text": [
        "\n",
        "http://www.cbssports.com/nba/players/playerpage/498324/Sasha-Vujacic"
       ]
      },
      {
       "output_type": "stream",
       "stream": "stdout",
       "text": [
        "\n",
        "http://www.cbssports.com/nba/players/playerpage/400578/Dwyane-Wade"
       ]
      },
      {
       "output_type": "stream",
       "stream": "stdout",
       "text": [
        "\n",
        "http://www.cbssports.com/nba/players/playerpage/1992834/Dion-Waiters"
       ]
      },
      {
       "output_type": "stream",
       "stream": "stdout",
       "text": [
        "\n",
        "http://www.cbssports.com/nba/players/playerpage/1646202/Kemba-Walker"
       ]
      },
      {
       "output_type": "stream",
       "stream": "stdout",
       "text": [
        "\n",
        "http://www.cbssports.com/nba/players/playerpage/1755192/John-Wall"
       ]
      },
      {
       "output_type": "stream",
       "stream": "stdout",
       "text": [
        "\n",
        "http://www.cbssports.com/nba/players/playerpage/240315/Gerald-Wallace"
       ]
      },
      {
       "output_type": "stream",
       "stream": "stdout",
       "text": [
        "\n",
        "http://www.cbssports.com/nba/players/playerpage/2121847/Casper-Ware"
       ]
      },
      {
       "output_type": "stream",
       "stream": "stdout",
       "text": [
        "\n",
        "http://www.cbssports.com/nba/players/playerpage/2135570/T.J.-Warren"
       ]
      },
      {
       "output_type": "stream",
       "stream": "stdout",
       "text": [
        "\n",
        "http://www.cbssports.com/nba/players/playerpage/2155407/Christian-Watford"
       ]
      },
      {
       "output_type": "stream",
       "stream": "stdout",
       "text": [
        "\n",
        "http://www.cbssports.com/nba/players/playerpage/1315531/C.J.-Watson"
       ]
      },
      {
       "output_type": "stream",
       "stream": "stdout",
       "text": [
        "\n",
        "http://www.cbssports.com/nba/players/playerpage/240316/Earl-Watson"
       ]
      },
      {
       "output_type": "stream",
       "stream": "stdout",
       "text": [
        "\n",
        "http://www.cbssports.com/nba/players/playerpage/2146348/Mitchell-Watt"
       ]
      },
      {
       "output_type": "stream",
       "stream": "stdout",
       "text": [
        "\n",
        "http://www.cbssports.com/nba/players/playerpage/2009753/Maalik-Wayns"
       ]
      },
      {
       "output_type": "stream",
       "stream": "stdout",
       "text": [
        "\n",
        "http://www.cbssports.com/nba/players/playerpage/2147740/David-Wear"
       ]
      },
      {
       "output_type": "stream",
       "stream": "stdout",
       "text": [
        "\n",
        "http://www.cbssports.com/nba/players/playerpage/2147074/Travis-Wear"
       ]
      },
      {
       "output_type": "stream",
       "stream": "stdout",
       "text": [
        "\n",
        "http://www.cbssports.com/nba/players/playerpage/555985/Martell-Webster"
       ]
      },
      {
       "output_type": "stream",
       "stream": "stdout",
       "text": [
        "\n",
        "http://www.cbssports.com/nba/players/playerpage/400580/David-West"
       ]
      },
      {
       "output_type": "stream",
       "stream": "stdout",
       "text": [
        "\n",
        "http://www.cbssports.com/nba/players/playerpage/1622555/Russell-Westbrook"
       ]
      },
      {
       "output_type": "stream",
       "stream": "stdout",
       "text": [
        "\n",
        "http://www.cbssports.com/nba/players/playerpage/1622515/D.J.-White"
       ]
      },
      {
       "output_type": "stream",
       "stream": "stdout",
       "text": [
        "\n",
        "http://www.cbssports.com/nba/players/playerpage/1992835/Royce-White"
       ]
      },
      {
       "output_type": "stream",
       "stream": "stdout",
       "text": [
        "\n",
        "http://www.cbssports.com/nba/players/playerpage/1755252/Hassan-Whiteside"
       ]
      },
      {
       "output_type": "stream",
       "stream": "stdout",
       "text": [
        "\n",
        "http://www.cbssports.com/nba/players/playerpage/2136150/Shayne-Whittington"
       ]
      },
      {
       "output_type": "stream",
       "stream": "stdout",
       "text": [
        "\n",
        "http://www.cbssports.com/nba/players/playerpage/2135571/Andrew-Wiggins"
       ]
      },
      {
       "output_type": "stream",
       "stream": "stdout",
       "text": [
        "\n",
        "http://www.cbssports.com/nba/players/playerpage/2135572/C.J.-Wilcox"
       ]
      },
      {
       "output_type": "stream",
       "stream": "stdout",
       "text": [
        "\n",
        "http://www.cbssports.com/nba/players/playerpage/523825/Damien-Wilkins"
       ]
      },
      {
       "output_type": "stream",
       "stream": "stdout",
       "text": [
        "\n",
        "http://www.cbssports.com/nba/players/playerpage/555987/Deron-Williams"
       ]
      },
      {
       "output_type": "stream",
       "stream": "stdout",
       "text": [
        "\n",
        "http://www.cbssports.com/nba/players/playerpage/1714726/Derrick-Williams"
       ]
      },
      {
       "output_type": "stream",
       "stream": "stdout",
       "text": [
        "\n",
        "http://www.cbssports.com/nba/players/playerpage/1755193/Elliot-Williams"
       ]
      },
      {
       "output_type": "stream",
       "stream": "stdout",
       "text": [
        "\n",
        "http://www.cbssports.com/nba/players/playerpage/555988/Lou-Williams"
       ]
      },
      {
       "output_type": "stream",
       "stream": "stdout",
       "text": [
        "\n",
        "http://www.cbssports.com/nba/players/playerpage/1231905/Marcus-Williams"
       ]
      },
      {
       "output_type": "stream",
       "stream": "stdout",
       "text": [
        "\n",
        "http://www.cbssports.com/nba/players/playerpage/555989/Marvin-Williams"
       ]
      },
      {
       "output_type": "stream",
       "stream": "stdout",
       "text": [
        "\n",
        "http://www.cbssports.com/nba/players/playerpage/400581/Mo-Williams"
       ]
      },
      {
       "output_type": "stream",
       "stream": "stdout",
       "text": [
        "\n",
        "http://www.cbssports.com/nba/players/playerpage/1738801/Reggie-Williams"
       ]
      },
      {
       "output_type": "stream",
       "stream": "stdout",
       "text": [
        "\n",
        "http://www.cbssports.com/nba/players/playerpage/1113192/Shawne-Williams"
       ]
      },
      {
       "output_type": "stream",
       "stream": "stdout",
       "text": [
        "\n",
        "http://www.cbssports.com/nba/players/playerpage/2155453/Jamil-Wilson"
       ]
      },
      {
       "output_type": "stream",
       "stream": "stdout",
       "text": [
        "\n",
        "http://www.cbssports.com/nba/players/playerpage/2067708/Jeff-Withey"
       ]
      },
      {
       "output_type": "stream",
       "stream": "stdout",
       "text": [
        "\n",
        "http://www.cbssports.com/nba/players/playerpage/2067709/Nate-Wolters"
       ]
      },
      {
       "output_type": "stream",
       "stream": "stdout",
       "text": [
        "\n",
        "http://www.cbssports.com/nba/players/playerpage/1231906/Brandan-Wright"
       ]
      },
      {
       "output_type": "stream",
       "stream": "stdout",
       "text": [
        "\n",
        "http://www.cbssports.com/nba/players/playerpage/1332807/Chris-Wright"
       ]
      },
      {
       "output_type": "stream",
       "stream": "stdout",
       "text": [
        "\n",
        "http://www.cbssports.com/nba/players/playerpage/498326/Dorell-Wright"
       ]
      },
      {
       "output_type": "stream",
       "stream": "stdout",
       "text": [
        "\n",
        "http://www.cbssports.com/nba/players/playerpage/2009754/Tony-Wroten"
       ]
      },
      {
       "output_type": "stream",
       "stream": "stdout",
       "text": [
        "\n",
        "http://www.cbssports.com/nba/players/playerpage/2135573/James-Young"
       ]
      },
      {
       "output_type": "stream",
       "stream": "stdout",
       "text": [
        "\n",
        "http://www.cbssports.com/nba/players/playerpage/1231909/Nick-Young"
       ]
      },
      {
       "output_type": "stream",
       "stream": "stdout",
       "text": [
        "\n",
        "http://www.cbssports.com/nba/players/playerpage/2138843/Patric-Young"
       ]
      },
      {
       "output_type": "stream",
       "stream": "stdout",
       "text": [
        "\n",
        "http://www.cbssports.com/nba/players/playerpage/1685272/Sam-Young"
       ]
      },
      {
       "output_type": "stream",
       "stream": "stdout",
       "text": [
        "\n",
        "http://www.cbssports.com/nba/players/playerpage/1231908/Thaddeus-Young"
       ]
      },
      {
       "output_type": "stream",
       "stream": "stdout",
       "text": [
        "\n",
        "http://www.cbssports.com/nba/players/playerpage/2147840/Talib-Zanna"
       ]
      },
      {
       "output_type": "stream",
       "stream": "stdout",
       "text": [
        "\n",
        "http://www.cbssports.com/nba/players/playerpage/2067710/Cody-Zeller"
       ]
      },
      {
       "output_type": "stream",
       "stream": "stdout",
       "text": [
        "\n",
        "http://www.cbssports.com/nba/players/playerpage/2009755/Tyler-Zeller"
       ]
      },
      {
       "output_type": "stream",
       "stream": "stdout",
       "text": [
        "\n"
       ]
      }
     ],
     "prompt_number": 58
    },
    {
     "cell_type": "heading",
     "level": 2,
     "metadata": {},
     "source": [
      "Manipulating DataFrames to Achieve Correct Format"
     ]
    },
    {
     "cell_type": "markdown",
     "metadata": {},
     "source": [
      "I scraped off the data a little bit inefficiently and so instead of scraping it all over again I just played around with the dataframes to get the format that I wanted to get creating two separate files and adjusting some statistics that came as a string into integers that we could use for the regression.\n",
      "\n",
      "Two interaction variables were made which I called three point volume and usage which measures how many three point shots taken per minute on the floor and a unique interaction variable which multiplied shots per game by minutes played which I used to express the usage of the player where players who have high shot volume sometimes tend to lower their percentages - whether it be as the star player to bail out the team at the end of the shot clock."
     ]
    },
    {
     "cell_type": "code",
     "collapsed": false,
     "input": [
      "import pandas as pd\n",
      "\n",
      "# reformatting\n",
      "dfplayerinfo = pd.read_csv(\"playerinfo.csv\")\n",
      "dfcollege = pd.read_csv(\"college.csv\")\n",
      "dfshooting = pd.read_csv(\"shooting.csv\")\n",
      "\n",
      "dfplayershooting = pd.merge(dfplayerinfo, dfshooting)\n",
      "dfplayercollege = pd.merge(dfplayerinfo, dfcollege)\n",
      "dfplayershooting = dfplayershooting.drop('Unnamed: 0', 1)\n",
      "dfplayercollege = dfplayercollege.drop('Unnamed: 0', 1)\n",
      "\n",
      "dfnonrookies = dfplayershooting.query('year == \"TOTAL\" and experience > 0')\n",
      "dfrookies = dfplayercollege.query('year == \"TOTAL\" and experience == 0')\n",
      "dfsoph = dfplayercollege.query('year == \"TOTAL\" and experience == 1')\n",
      "dfnonsoph = dfplayershooting.query('year == \"TOTAL\" and experience > 1')\n",
      "dfpreviousnonrook = dfplayershooting.query('year == \"2013-14\" and experience >0')\n",
      "dfpreviousrook = dfplayercollege.query('year == \"2013-14\" and experience == 0')\n",
      "dfprevioussoph = dfplayercollege.query('year == \"2012-13\" and experience == 1')\n",
      "dfpreviousnonsoph = dfplayershooting.query('year == \"2012-13\" and experience > 1')\n",
      "\n",
      "dfcareer = dfnonrookies.append(dfrookies)\n",
      "dfcareer = dfcareer.drop('year', 1)\n",
      "dfcareer = dfcareer.rename(columns={'fg': 'careerfg', 'fg3': 'careerfg3', 'fg3perc': 'careerfg3perc', 'fga' : 'careerfga', 'fg3a':'careerfg3a','fgperc' : 'careerfgperc', 'ftperc' : 'careerftperc', 'gamesplayed': 'careergamesplayed', 'minutes': 'careerminutes', 'ppg': 'careerppg'})\n",
      "\n",
      "df2013 = dfpreviousnonrook.append(dfpreviousrook)\n",
      "df2013 = df2013.drop('year', 1)\n",
      "df2013 = df2013.rename(columns={'fg': '2013fg', 'fg3': '2013fg3', 'fg3perc': '2013fg3perc', 'fga' : '2013fga', 'fg3a':'2013fg3a','fgperc' : '2013fgperc', 'ftperc' : '2013ftperc', 'gamesplayed': '2013gamesplayed', 'minutes': '2013minutes', 'ppg': '2013ppg'})\n",
      "\n",
      "dfnba = pd.merge(dfcareer, df2013, on=['id', 'firstname', 'lastname', 'age', 'bodysize', 'currentteam', 'experience'])\n",
      "dfnba = dfnba.rename(columns={'currentteam':'lastteam'})\n",
      "dfnba = dfnba.drop('id', 1)\n",
      "dfnba.to_csv(\"nbastats.csv\", index = False)\n",
      "\n",
      "dftestcareer = dfnonsoph.append(dfsoph)\n",
      "dftestcareer = dftestcareer.drop('year', 1)\n",
      "dftestcareer = dftestcareer.rename(columns={'fg': 'careerfg', 'fg3': 'careerfg3', 'fg3perc': 'careerfg3perc', 'fga' : 'careerfga', 'fg3a':'careerfg3a','fgperc' : 'careerfgperc', 'ftperc' : 'careerftperc', 'gamesplayed': 'careergamesplayed', 'minutes': 'careerminutes', 'ppg': 'careerppg'})\n",
      "\n",
      "df2012 = dfpreviousnonsoph.append(dfprevioussoph)\n",
      "df2012 = df2012.drop('year', 1)\n",
      "df2012 = df2012.rename(columns={'fg': '2012fg', 'fg3': '2012fg3', 'fg3perc': '2012fg3perc', 'fga' : '2012fga', 'fg3a':'2012fg3a','fgperc' : '2012fgperc', 'ftperc' : '2012ftperc', 'gamesplayed': '2012gamesplayed', 'minutes': '2012minutes', 'ppg': '2012ppg'})\n",
      "\n",
      "# splitting the bodysize format of #'#\"/# into two separate columns of height in inches and weight in pounds\n",
      "\n",
      "bodysize = dfnba['bodysize']\n",
      "weight = []\n",
      "height = []\n",
      "\n",
      "for player in bodysize:\n",
      "    arr = player.split('/')\n",
      "    weight.append(int(arr[1]))\n",
      "    h = arr[0].split('-')\n",
      "    inches = int(h[0])*12+int(h[1])\n",
      "    height.append(inches)\n",
      "\n",
      "dftestnba = pd.merge(dftestcareer, df2012, on=['id', 'firstname', 'lastname', 'age', 'bodysize', 'currentteam', 'experience'])\n",
      "dftestnba = pd.merge(dftestnba, df2013[['id','2013fg3perc']], on=['id'])\n",
      "dftestnba = dftestnba.rename(columns={'currentteam':'lastteam'})\n",
      "dftestnba = dftestnba.drop('id', 1)\n",
      "\n",
      "testbodysize = dftestnba['bodysize']\n",
      "\n",
      "testweight = []\n",
      "testheight = []\n",
      "\n",
      "for player in testbodysize:\n",
      "    arr = player.split('/')\n",
      "    testweight.append(int(arr[1]))\n",
      "    h = arr[0].split('-')\n",
      "    inches = int(h[0])*12+int(h[1])\n",
      "    testheight.append(inches)\n",
      "\n",
      "dftestnba.to_csv(\"test.csv\", index = False)\n",
      "\n",
      "# functions to generate \n",
      "\n",
      "def f(x):\n",
      "    if x[14] != 0:\n",
      "        # Career 3PTFGA / MP\n",
      "        return float(x[8]) / float(x[14])\n",
      "    else:\n",
      "        return 0\n",
      "\n",
      "def g(x):\n",
      "    if x[24] != 0:\n",
      "        # Previous Season 3PTFGA / MP\n",
      "        return float(x[18]) / float(x[24])\n",
      "    else:\n",
      "        return 0\n",
      "\n",
      "def h(x):\n",
      "    if x[13] != 0:\n",
      "        # Career FGA / GP * MP\n",
      "        return float(x[10]) / float(x[13]) * float(x[14])\n",
      "    else:\n",
      "        return 0\n",
      "\n",
      "def j(x):\n",
      "    if x[23] != 0:\n",
      "        # Previous Season FGA / GP * MP\n",
      "        return float(x[20]) / float(x[23]) * float(x[24])\n",
      "    else:\n",
      "        return 0\n",
      "\n",
      "vol3ptcareer = dfnba.apply(f, axis = 1)\n",
      "vol3pt2013 = dfnba.apply(g, axis = 1)\n",
      "usagecareer = dfnba.apply(h, axis = 1)\n",
      "usage2013 = dfnba.apply(j, axis = 1)\n",
      "\n",
      "dfnba = dfnba.drop('bodysize', 1)\n",
      "dfnba['height'] = height\n",
      "dfnba['weight'] = weight\n",
      "dfnba['vol3ptcareer'] = vol3ptcareer\n",
      "dfnba['vol3pt2013'] = vol3pt2013\n",
      "dfnba['usagecareer'] = usagecareer\n",
      "dfnba['usage2013'] = usage2013\n",
      "\n",
      "dfnba.to_csv(\"nbastats.csv\", index = False)\n",
      "\n",
      "testvol3ptcareer = dftestnba.apply(f, axis = 1)\n",
      "testvol3pt2012 = dftestnba.apply(g, axis = 1)\n",
      "testusagecareer = dftestnba.apply(h, axis = 1)\n",
      "testusage2012 = dftestnba.apply(j, axis = 1)\n",
      "\n",
      "dftestnba = dftestnba.drop('bodysize', 1)\n",
      "dftestnba['height'] = testheight\n",
      "dftestnba['weight'] = testweight\n",
      "dftestnba['vol3ptcareer'] = testvol3ptcareer\n",
      "dftestnba['vol3pt2012'] = testvol3pt2012\n",
      "dftestnba['usagecareer'] = testusagecareer\n",
      "dftestnba['usage2012'] = testusage2012\n",
      "\n",
      "dftestnba.to_csv(\"testnbastats.csv\", index = False)\n"
     ],
     "language": "python",
     "metadata": {},
     "outputs": [],
     "prompt_number": 97
    },
    {
     "cell_type": "heading",
     "level": 2,
     "metadata": {},
     "source": [
      "Reformatting the Columns"
     ]
    },
    {
     "cell_type": "markdown",
     "metadata": {},
     "source": [
      "Shifted the columns around so that we could split the dependent and independent variables more easily."
     ]
    },
    {
     "cell_type": "code",
     "collapsed": false,
     "input": [
      "import numpy as np\n",
      "import pandas as pd\n",
      "\n",
      "dfnba = pd.read_csv(\"nbastats.csv\")\n",
      "dftestnba = pd.read_csv(\"testnbastats.csv\")\n",
      "\n",
      "cols = dfnba.columns.tolist()\n",
      "cols = cols[0:2] + [cols[3]] + [cols[2]] + [cols[-6]] + [cols[-5]] + cols[4:24] + [cols[-4]] + [cols[-3]] + [cols[-2]] + [cols[-1]]\n",
      "\n",
      "dfnba = dfnba[cols]\n",
      "\n",
      "dfnba.to_csv(\"nbastats.csv\", index = False)\n",
      "\n",
      "testcols = dftestnba.columns.tolist()\n",
      "testcols = testcols[0:2] + [testcols[3]] + [testcols[2]] + [testcols[-6]] + [testcols[-5]] + testcols[4:24] + [testcols[-4]] + [testcols[-3]] + [testcols[-2]] + [testcols[-1]] + [testcols[-7]]\n",
      "\n",
      "dftestnba = dftestnba[testcols]\n",
      "\n",
      "dftestnba.to_csv(\"testnbastats.csv\", index = False)\n",
      "\n",
      "    "
     ],
     "language": "python",
     "metadata": {},
     "outputs": [],
     "prompt_number": 98
    },
    {
     "cell_type": "heading",
     "level": 2,
     "metadata": {},
     "source": [
      "Building the Model"
     ]
    },
    {
     "cell_type": "markdown",
     "metadata": {},
     "source": [
      "I started the model using basic least squares regression and through backward stepwise regression was able to find out which predictors were most useful in predicting three point percentage and which one just created additional noise that took away from the model.\n",
      "\n",
      "I moved on to compare the least squares linear regression with the ridge regression and the lasso regression to compare which model would be the best in predictive power. I included regularization of the parameters in order to prevent overfitting of the data and also cross-validation in order to make sure it would generalize to an independent data set which is what we would be doing now. I compared the models by listing out the R^2 and the MSE values. Ridge regression seemed to have the best predictive power so I used it to predict the 2014 season."
     ]
    },
    {
     "cell_type": "code",
     "collapsed": false,
     "input": [
      "from sklearn.linear_model import LinearRegression\n",
      "from sklearn.linear_model import Ridge\n",
      "from sklearn.linear_model import Lasso\n",
      "from sklearn.cross_validation import ShuffleSplit, cross_val_score, train_test_split\n",
      "from sklearn.grid_search import GridSearchCV\n",
      "import pandas as pd\n",
      "import numpy as np\n",
      "\n",
      "data = np.genfromtxt(\"/Users/Joseph/testnbastats.csv\", dtype = float, delimiter=',')\n",
      "realdata = np.genfromtxt(\"/Users/Joseph/nbastats.csv\", dtype = float, delimiter=',')\n",
      "num_of_cols = len(data[0])\n",
      "# Age, Weight, Career3PT%, CareerFT%, CareerGames, Previous3PT%, PreviousFT%, Career3PTVolume, CareerUsage\n",
      "indices = [3, 5, 10, 13, 14, 20, 26]\n",
      "X = np.transpose(np.array([data[1:, i] for i in indices]))\n",
      "y = data[1: , num_of_cols-1]\n",
      "X_train, X_test, y_train, y_test = train_test_split(X, y, test_size=0.2, random_state=47)\n",
      "\n",
      "# cross validation\n",
      "cv = ShuffleSplit(len(X), n_iter=10, test_size=0.3, random_state = 0)\n",
      "\n",
      "# least squares regression\n",
      "lr = LinearRegression(fit_intercept = True, normalize = True)\n",
      "lrscores = cross_val_score(lr, X, y, cv=cv, scoring = 'mean_squared_error')\n",
      "lrscores2 = cross_val_score(lr, X, y, cv=cv, scoring = 'r2')\n",
      "lrMSE = (sum(lrscores)/len(lrscores))\n",
      "lrr2 = (sum(lrscores2)/len(lrscores2))\n",
      "print(\"Least Squares Linear Regression\")\n",
      "print(\"R^2: %.6f\" % lrr2)\n",
      "print(\"MSE: %.6f\" % -lrMSE)\n",
      "print(\"\\n\")\n",
      "\n",
      "# regularization of the alpha parameter of the ridge regression\n",
      "alphas = np.array([0, 0.001, 0.01, 0.1, 1, 10, 100, 1000])\n",
      "ridge = Ridge()\n",
      "gridr = GridSearchCV(estimator = ridge, param_grid=dict(alpha=alphas), cv=5)\n",
      "gridr.fit(X_train, y_train)\n",
      "print(\"Ridge Regression\")\n",
      "print(gridr.best_params_)\n",
      "\n",
      "# testing out the ridge regression performance using the alpha parameter\n",
      "regridge = Ridge(alpha = gridr.best_estimator_.alpha)\n",
      "regridgescores = cross_val_score(regridge, X, y, cv=cv, scoring = 'r2')\n",
      "rr2 = sum(regridgescores)/len(regridgescores)\n",
      "regridgescores2 = cross_val_score(regridge, X, y, cv=cv, scoring = 'mean_squared_error')\n",
      "rMSE = sum(regridgescores2)/len(regridgescores2)\n",
      "print(\"R^2: %.6f\" % rr2)\n",
      "print(\"MSE: %.6f\" % -rMSE)\n",
      "print(\"\\n\")\n",
      " \n",
      "# regularization of the alpha parameter of the lasso regression\n",
      "lasso = Lasso()\n",
      "gridl = GridSearchCV(estimator = lasso, param_grid=dict(alpha=alphas), cv=5)\n",
      "gridl.fit(X_train, y_train)\n",
      "print(\"Lasso Regression\")\n",
      "print(gridl.best_params_)\n",
      "\n",
      "# testing out the lasso regression performance using the alaph parameter\n",
      "reglasso = Lasso(alpha = gridl.best_estimator_.alpha)\n",
      "reglassoscores = cross_val_score(reglasso, X, y, cv=cv, scoring = 'r2')\n",
      "lr2 = sum(reglassoscores)/len(reglassoscores)\n",
      "reglassoscores2 = cross_val_score(reglasso, X, y, cv=cv, scoring = 'mean_squared_error')\n",
      "lMSE = sum(reglassoscores2)/len(reglassoscores2)\n",
      "print(\"R^2: %.6f\" % lr2)\n",
      "print(\"MSE: %.6f\" % -lMSE)\n",
      "print(\"\\n\")\n",
      "\n",
      "predictions = []\n",
      "scores = []\n",
      "\n",
      "# predicting the 2014 season\n",
      "realX = np.transpose(np.array([realdata[1:, i] for i in indices]))\n",
      "for train_index, test_index in cv:\n",
      "    regridge.fit(X[train_index], y[train_index])\n",
      "    prediction = regridge.predict(realX)\n",
      "    predictions.append(prediction)\n",
      "    score = regridge.score(X[train_index], y[train_index])\n",
      "    scores.append(score)\n",
      "\n",
      "r2score = sum(scores)/len(scores)\n",
      "print(\"Model R^2: %.6f\" % r2score)\n",
      "\n",
      "final_predictions = []  \n",
      "\n",
      "predictions = (sum(predictions)/len(predictions))\n",
      "for prediction in predictions:\n",
      "    if prediction < 0:\n",
      "        prediction = 0\n",
      "        final_predictions.append(prediction)\n",
      "    else:\n",
      "        final_predictions.append(prediction)\n",
      "\n",
      "dfnba['2014fg3perc'] = final_predictions\n",
      "\n",
      "dfnba.to_csv(\"nbastats.csv\", index = False)"
     ],
     "language": "python",
     "metadata": {},
     "outputs": [
      {
       "output_type": "stream",
       "stream": "stdout",
       "text": [
        "Least Squares Linear Regression\n",
        "R^2: 0.535961\n",
        "MSE: 142.052661\n",
        "\n",
        "\n",
        "Ridge Regression\n",
        "{'alpha': 0.10000000000000001}\n",
        "R^2: 0.537156\n",
        "MSE: 141.482664\n",
        "\n",
        "\n",
        "Lasso Regression"
       ]
      },
      {
       "output_type": "stream",
       "stream": "stdout",
       "text": [
        "\n",
        "{'alpha': 0.01}\n",
        "R^2: 0.535936\n",
        "MSE: 141.954289\n",
        "\n",
        "\n",
        "Model R^2: 0.554782\n"
       ]
      }
     ],
     "prompt_number": 99
    },
    {
     "cell_type": "heading",
     "level": 2,
     "metadata": {},
     "source": [
      "Predictions"
     ]
    },
    {
     "cell_type": "code",
     "collapsed": false,
     "input": [
      "dfnba = pd.read_csv(\"nbastats.csv\")\n",
      "dfpredictions = dfnba[['firstname', 'lastname', 'lastteam', '2014fg3perc']]\n",
      "dfnba = dfnba[['firstname', 'lastname', 'lastteam', 'age', 'careerfg3perc', '2013fg3perc', '2014fg3perc']]\n",
      "dfpredictions.to_csv(\"predictions.csv\", index = False)\n",
      "dfnba.head(150)"
     ],
     "language": "python",
     "metadata": {},
     "outputs": [
      {
       "html": [
        "<div style=\"max-height:1000px;max-width:1500px;overflow:auto;\">\n",
        "<table border=\"1\" class=\"dataframe\">\n",
        "  <thead>\n",
        "    <tr style=\"text-align: right;\">\n",
        "      <th></th>\n",
        "      <th>firstname</th>\n",
        "      <th>lastname</th>\n",
        "      <th>lastteam</th>\n",
        "      <th>age</th>\n",
        "      <th>careerfg3perc</th>\n",
        "      <th>2013fg3perc</th>\n",
        "      <th>2014fg3perc</th>\n",
        "    </tr>\n",
        "  </thead>\n",
        "  <tbody>\n",
        "    <tr>\n",
        "      <th>0  </th>\n",
        "      <td>    Quincy</td>\n",
        "      <td>             Acy</td>\n",
        "      <td>        New York Knicks</td>\n",
        "      <td> 24</td>\n",
        "      <td> 30.0</td>\n",
        "      <td>  26.7</td>\n",
        "      <td> 20.358254</td>\n",
        "    </tr>\n",
        "    <tr>\n",
        "      <th>1  </th>\n",
        "      <td>    Steven</td>\n",
        "      <td>           Adams</td>\n",
        "      <td>  Oklahoma City Thunder</td>\n",
        "      <td> 21</td>\n",
        "      <td>  0.0</td>\n",
        "      <td>   0.0</td>\n",
        "      <td>  2.790031</td>\n",
        "    </tr>\n",
        "    <tr>\n",
        "      <th>2  </th>\n",
        "      <td>      Jeff</td>\n",
        "      <td>          Adrien</td>\n",
        "      <td> Minnesota Timberwolves</td>\n",
        "      <td> 28</td>\n",
        "      <td>  0.0</td>\n",
        "      <td>   0.0</td>\n",
        "      <td>  0.000000</td>\n",
        "    </tr>\n",
        "    <tr>\n",
        "      <th>3  </th>\n",
        "      <td>     Arron</td>\n",
        "      <td>         Afflalo</td>\n",
        "      <td>         Denver Nuggets</td>\n",
        "      <td> 29</td>\n",
        "      <td> 38.8</td>\n",
        "      <td>  42.7</td>\n",
        "      <td> 35.053300</td>\n",
        "    </tr>\n",
        "    <tr>\n",
        "      <th>4  </th>\n",
        "      <td>    Alexis</td>\n",
        "      <td>          Ajinca</td>\n",
        "      <td>   New Orleans Pelicans</td>\n",
        "      <td> 26</td>\n",
        "      <td> 32.4</td>\n",
        "      <td>   0.0</td>\n",
        "      <td> 23.876600</td>\n",
        "    </tr>\n",
        "    <tr>\n",
        "      <th>5  </th>\n",
        "      <td>      Cole</td>\n",
        "      <td>         Aldrich</td>\n",
        "      <td>        New York Knicks</td>\n",
        "      <td> 26</td>\n",
        "      <td>  0.0</td>\n",
        "      <td>   0.0</td>\n",
        "      <td>  3.241835</td>\n",
        "    </tr>\n",
        "    <tr>\n",
        "      <th>6  </th>\n",
        "      <td>  LaMarcus</td>\n",
        "      <td>        Aldridge</td>\n",
        "      <td> Portland Trail Blazers</td>\n",
        "      <td> 29</td>\n",
        "      <td> 26.4</td>\n",
        "      <td>  20.0</td>\n",
        "      <td> 21.823143</td>\n",
        "    </tr>\n",
        "    <tr>\n",
        "      <th>7  </th>\n",
        "      <td>     Lavoy</td>\n",
        "      <td>           Allen</td>\n",
        "      <td>         Indiana Pacers</td>\n",
        "      <td> 25</td>\n",
        "      <td> 14.3</td>\n",
        "      <td>  15.4</td>\n",
        "      <td> 10.578272</td>\n",
        "    </tr>\n",
        "    <tr>\n",
        "      <th>8  </th>\n",
        "      <td>       Ray</td>\n",
        "      <td>           Allen</td>\n",
        "      <td>             Miami Heat</td>\n",
        "      <td> 39</td>\n",
        "      <td> 40.0</td>\n",
        "      <td>  37.5</td>\n",
        "      <td> 44.448905</td>\n",
        "    </tr>\n",
        "    <tr>\n",
        "      <th>9  </th>\n",
        "      <td>      Tony</td>\n",
        "      <td>           Allen</td>\n",
        "      <td>      Memphis Grizzlies</td>\n",
        "      <td> 32</td>\n",
        "      <td> 26.2</td>\n",
        "      <td>  23.4</td>\n",
        "      <td> 20.548409</td>\n",
        "    </tr>\n",
        "    <tr>\n",
        "      <th>10 </th>\n",
        "      <td> Al-Farouq</td>\n",
        "      <td>           Aminu</td>\n",
        "      <td>       Dallas Mavericks</td>\n",
        "      <td> 24</td>\n",
        "      <td> 28.4</td>\n",
        "      <td>  27.1</td>\n",
        "      <td> 25.367762</td>\n",
        "    </tr>\n",
        "    <tr>\n",
        "      <th>11 </th>\n",
        "      <td>       Lou</td>\n",
        "      <td>        Amundson</td>\n",
        "      <td>    Cleveland Cavaliers</td>\n",
        "      <td> 32</td>\n",
        "      <td>  0.0</td>\n",
        "      <td>   0.0</td>\n",
        "      <td>  0.000000</td>\n",
        "    </tr>\n",
        "    <tr>\n",
        "      <th>12 </th>\n",
        "      <td>     Chris</td>\n",
        "      <td>        Andersen</td>\n",
        "      <td>             Miami Heat</td>\n",
        "      <td> 36</td>\n",
        "      <td> 17.9</td>\n",
        "      <td>  25.0</td>\n",
        "      <td>  7.683561</td>\n",
        "    </tr>\n",
        "    <tr>\n",
        "      <th>13 </th>\n",
        "      <td>      Alan</td>\n",
        "      <td>        Anderson</td>\n",
        "      <td>          Brooklyn Nets</td>\n",
        "      <td> 32</td>\n",
        "      <td> 34.4</td>\n",
        "      <td>  33.9</td>\n",
        "      <td> 29.458148</td>\n",
        "    </tr>\n",
        "    <tr>\n",
        "      <th>14 </th>\n",
        "      <td>     James</td>\n",
        "      <td>        Anderson</td>\n",
        "      <td>     Philadelphia 76ers</td>\n",
        "      <td> 25</td>\n",
        "      <td> 33.0</td>\n",
        "      <td>  32.8</td>\n",
        "      <td> 33.542143</td>\n",
        "    </tr>\n",
        "    <tr>\n",
        "      <th>15 </th>\n",
        "      <td>      Ryan</td>\n",
        "      <td>        Anderson</td>\n",
        "      <td>   New Orleans Pelicans</td>\n",
        "      <td> 26</td>\n",
        "      <td> 38.1</td>\n",
        "      <td>  40.9</td>\n",
        "      <td> 43.337225</td>\n",
        "    </tr>\n",
        "    <tr>\n",
        "      <th>16 </th>\n",
        "      <td>   Giannis</td>\n",
        "      <td>   Antetokounmpo</td>\n",
        "      <td>        Milwaukee Bucks</td>\n",
        "      <td> 20</td>\n",
        "      <td> 32.6</td>\n",
        "      <td>  34.7</td>\n",
        "      <td> 27.621929</td>\n",
        "    </tr>\n",
        "    <tr>\n",
        "      <th>17 </th>\n",
        "      <td>   Carmelo</td>\n",
        "      <td>         Anthony</td>\n",
        "      <td>        New York Knicks</td>\n",
        "      <td> 30</td>\n",
        "      <td> 34.4</td>\n",
        "      <td>  40.2</td>\n",
        "      <td> 33.361874</td>\n",
        "    </tr>\n",
        "    <tr>\n",
        "      <th>18 </th>\n",
        "      <td>      Joel</td>\n",
        "      <td>         Anthony</td>\n",
        "      <td>        Detroit Pistons</td>\n",
        "      <td> 32</td>\n",
        "      <td>  0.0</td>\n",
        "      <td>   0.0</td>\n",
        "      <td>  0.000000</td>\n",
        "    </tr>\n",
        "    <tr>\n",
        "      <th>19 </th>\n",
        "      <td>      Pero</td>\n",
        "      <td>           Antic</td>\n",
        "      <td>          Atlanta Hawks</td>\n",
        "      <td> 32</td>\n",
        "      <td> 31.9</td>\n",
        "      <td>  32.7</td>\n",
        "      <td> 25.427259</td>\n",
        "    </tr>\n",
        "    <tr>\n",
        "      <th>20 </th>\n",
        "      <td>    Trevor</td>\n",
        "      <td>           Ariza</td>\n",
        "      <td>        Houston Rockets</td>\n",
        "      <td> 29</td>\n",
        "      <td> 34.6</td>\n",
        "      <td>  40.7</td>\n",
        "      <td> 32.607046</td>\n",
        "    </tr>\n",
        "    <tr>\n",
        "      <th>21 </th>\n",
        "      <td>    Hilton</td>\n",
        "      <td>       Armstrong</td>\n",
        "      <td>  Golden State Warriors</td>\n",
        "      <td> 30</td>\n",
        "      <td> 28.6</td>\n",
        "      <td>   0.0</td>\n",
        "      <td> 16.245747</td>\n",
        "    </tr>\n",
        "    <tr>\n",
        "      <th>22 </th>\n",
        "      <td>   Darrell</td>\n",
        "      <td>          Arthur</td>\n",
        "      <td>         Denver Nuggets</td>\n",
        "      <td> 26</td>\n",
        "      <td> 30.7</td>\n",
        "      <td>  37.5</td>\n",
        "      <td> 22.883193</td>\n",
        "    </tr>\n",
        "    <tr>\n",
        "      <th>23 </th>\n",
        "      <td>      Omer</td>\n",
        "      <td>            Asik</td>\n",
        "      <td>   New Orleans Pelicans</td>\n",
        "      <td> 28</td>\n",
        "      <td>  0.0</td>\n",
        "      <td>   0.0</td>\n",
        "      <td>  0.000000</td>\n",
        "    </tr>\n",
        "    <tr>\n",
        "      <th>24 </th>\n",
        "      <td>   Gustavo</td>\n",
        "      <td>            Ayon</td>\n",
        "      <td>          Atlanta Hawks</td>\n",
        "      <td> 28</td>\n",
        "      <td>  0.0</td>\n",
        "      <td>   0.0</td>\n",
        "      <td>  0.000000</td>\n",
        "    </tr>\n",
        "    <tr>\n",
        "      <th>25 </th>\n",
        "      <td>      Jeff</td>\n",
        "      <td>           Ayres</td>\n",
        "      <td>      San Antonio Spurs</td>\n",
        "      <td> 27</td>\n",
        "      <td> 50.0</td>\n",
        "      <td>   0.0</td>\n",
        "      <td> 32.723674</td>\n",
        "    </tr>\n",
        "    <tr>\n",
        "      <th>26 </th>\n",
        "      <td>     Chris</td>\n",
        "      <td>            Babb</td>\n",
        "      <td>         Boston Celtics</td>\n",
        "      <td> 24</td>\n",
        "      <td> 22.2</td>\n",
        "      <td>  22.2</td>\n",
        "      <td> 18.313360</td>\n",
        "    </tr>\n",
        "    <tr>\n",
        "      <th>27 </th>\n",
        "      <td>      Luke</td>\n",
        "      <td>         Babbitt</td>\n",
        "      <td>   New Orleans Pelicans</td>\n",
        "      <td> 25</td>\n",
        "      <td> 38.9</td>\n",
        "      <td>  37.9</td>\n",
        "      <td> 39.249957</td>\n",
        "    </tr>\n",
        "    <tr>\n",
        "      <th>28 </th>\n",
        "      <td>   Leandro</td>\n",
        "      <td>         Barbosa</td>\n",
        "      <td>  Golden State Warriors</td>\n",
        "      <td> 32</td>\n",
        "      <td> 38.8</td>\n",
        "      <td>  28.0</td>\n",
        "      <td> 39.795999</td>\n",
        "    </tr>\n",
        "    <tr>\n",
        "      <th>29 </th>\n",
        "      <td>    Andrea</td>\n",
        "      <td>        Bargnani</td>\n",
        "      <td>        New York Knicks</td>\n",
        "      <td> 29</td>\n",
        "      <td> 35.5</td>\n",
        "      <td>  27.8</td>\n",
        "      <td> 33.649421</td>\n",
        "    </tr>\n",
        "    <tr>\n",
        "      <th>...</th>\n",
        "      <td>...</td>\n",
        "      <td>...</td>\n",
        "      <td>...</td>\n",
        "      <td>...</td>\n",
        "      <td>...</td>\n",
        "      <td>...</td>\n",
        "      <td>...</td>\n",
        "    </tr>\n",
        "    <tr>\n",
        "      <th>120</th>\n",
        "      <td>      Luol</td>\n",
        "      <td>            Deng</td>\n",
        "      <td>             Miami Heat</td>\n",
        "      <td> 29</td>\n",
        "      <td> 33.2</td>\n",
        "      <td>  30.2</td>\n",
        "      <td> 30.560460</td>\n",
        "    </tr>\n",
        "    <tr>\n",
        "      <th>121</th>\n",
        "      <td>     Boris</td>\n",
        "      <td>            Diaw</td>\n",
        "      <td>      San Antonio Spurs</td>\n",
        "      <td> 32</td>\n",
        "      <td> 34.1</td>\n",
        "      <td>  40.2</td>\n",
        "      <td> 27.057403</td>\n",
        "    </tr>\n",
        "    <tr>\n",
        "      <th>122</th>\n",
        "      <td>    Gorgui</td>\n",
        "      <td>           Dieng</td>\n",
        "      <td> Minnesota Timberwolves</td>\n",
        "      <td> 24</td>\n",
        "      <td> 50.0</td>\n",
        "      <td> 100.0</td>\n",
        "      <td> 24.175202</td>\n",
        "    </tr>\n",
        "    <tr>\n",
        "      <th>123</th>\n",
        "      <td>     Toney</td>\n",
        "      <td>         Douglas</td>\n",
        "      <td>             Miami Heat</td>\n",
        "      <td> 28</td>\n",
        "      <td> 35.3</td>\n",
        "      <td>  30.4</td>\n",
        "      <td> 37.940508</td>\n",
        "    </tr>\n",
        "    <tr>\n",
        "      <th>124</th>\n",
        "      <td>     Chris</td>\n",
        "      <td> Douglas-Roberts</td>\n",
        "      <td>   Los Angeles Clippers</td>\n",
        "      <td> 27</td>\n",
        "      <td> 32.9</td>\n",
        "      <td>  38.6</td>\n",
        "      <td> 26.045532</td>\n",
        "    </tr>\n",
        "    <tr>\n",
        "      <th>125</th>\n",
        "      <td>     Goran</td>\n",
        "      <td>          Dragic</td>\n",
        "      <td>           Phoenix Suns</td>\n",
        "      <td> 28</td>\n",
        "      <td> 36.3</td>\n",
        "      <td>  40.8</td>\n",
        "      <td> 34.130109</td>\n",
        "    </tr>\n",
        "    <tr>\n",
        "      <th>126</th>\n",
        "      <td>     Andre</td>\n",
        "      <td>        Drummond</td>\n",
        "      <td>        Detroit Pistons</td>\n",
        "      <td> 21</td>\n",
        "      <td> 20.0</td>\n",
        "      <td>   0.0</td>\n",
        "      <td> 12.444344</td>\n",
        "    </tr>\n",
        "    <tr>\n",
        "      <th>127</th>\n",
        "      <td>     Jared</td>\n",
        "      <td>          Dudley</td>\n",
        "      <td>        Milwaukee Bucks</td>\n",
        "      <td> 29</td>\n",
        "      <td> 39.9</td>\n",
        "      <td>  36.0</td>\n",
        "      <td> 35.110063</td>\n",
        "    </tr>\n",
        "    <tr>\n",
        "      <th>128</th>\n",
        "      <td>       Tim</td>\n",
        "      <td>          Duncan</td>\n",
        "      <td>      San Antonio Spurs</td>\n",
        "      <td> 38</td>\n",
        "      <td> 17.5</td>\n",
        "      <td>   0.0</td>\n",
        "      <td> 17.985112</td>\n",
        "    </tr>\n",
        "    <tr>\n",
        "      <th>129</th>\n",
        "      <td>      Mike</td>\n",
        "      <td>        Dunleavy</td>\n",
        "      <td>          Chicago Bulls</td>\n",
        "      <td> 34</td>\n",
        "      <td> 37.4</td>\n",
        "      <td>  38.0</td>\n",
        "      <td> 35.818931</td>\n",
        "    </tr>\n",
        "    <tr>\n",
        "      <th>130</th>\n",
        "      <td>     Kevin</td>\n",
        "      <td>          Durant</td>\n",
        "      <td>  Oklahoma City Thunder</td>\n",
        "      <td> 26</td>\n",
        "      <td> 37.7</td>\n",
        "      <td>  39.1</td>\n",
        "      <td> 38.329539</td>\n",
        "    </tr>\n",
        "    <tr>\n",
        "      <th>131</th>\n",
        "      <td>     Shane</td>\n",
        "      <td>         Edwards</td>\n",
        "      <td>    Cleveland Cavaliers</td>\n",
        "      <td> 27</td>\n",
        "      <td>  0.0</td>\n",
        "      <td>   0.0</td>\n",
        "      <td>  0.000000</td>\n",
        "    </tr>\n",
        "    <tr>\n",
        "      <th>132</th>\n",
        "      <td>     Wayne</td>\n",
        "      <td>       Ellington</td>\n",
        "      <td>     Los Angeles Lakers</td>\n",
        "      <td> 27</td>\n",
        "      <td> 38.7</td>\n",
        "      <td>  42.4</td>\n",
        "      <td> 36.586476</td>\n",
        "    </tr>\n",
        "    <tr>\n",
        "      <th>133</th>\n",
        "      <td>     Monta</td>\n",
        "      <td>           Ellis</td>\n",
        "      <td>       Dallas Mavericks</td>\n",
        "      <td> 29</td>\n",
        "      <td> 31.9</td>\n",
        "      <td>  33.0</td>\n",
        "      <td> 31.676582</td>\n",
        "    </tr>\n",
        "    <tr>\n",
        "      <th>134</th>\n",
        "      <td>    Melvin</td>\n",
        "      <td>             Ely</td>\n",
        "      <td>     Washington Wizards</td>\n",
        "      <td> 35</td>\n",
        "      <td>  0.0</td>\n",
        "      <td>   0.0</td>\n",
        "      <td>  0.000000</td>\n",
        "    </tr>\n",
        "    <tr>\n",
        "      <th>135</th>\n",
        "      <td>    Jeremy</td>\n",
        "      <td>           Evans</td>\n",
        "      <td>              Utah Jazz</td>\n",
        "      <td> 27</td>\n",
        "      <td>  0.0</td>\n",
        "      <td>   0.0</td>\n",
        "      <td>  2.911262</td>\n",
        "    </tr>\n",
        "    <tr>\n",
        "      <th>136</th>\n",
        "      <td>    Reggie</td>\n",
        "      <td>           Evans</td>\n",
        "      <td>       Sacramento Kings</td>\n",
        "      <td> 34</td>\n",
        "      <td>  9.1</td>\n",
        "      <td>   0.0</td>\n",
        "      <td>  6.625410</td>\n",
        "    </tr>\n",
        "    <tr>\n",
        "      <th>137</th>\n",
        "      <td>    Tyreke</td>\n",
        "      <td>           Evans</td>\n",
        "      <td>   New Orleans Pelicans</td>\n",
        "      <td> 25</td>\n",
        "      <td> 27.1</td>\n",
        "      <td>  22.1</td>\n",
        "      <td> 26.175707</td>\n",
        "    </tr>\n",
        "    <tr>\n",
        "      <th>138</th>\n",
        "      <td>   Kenneth</td>\n",
        "      <td>          Faried</td>\n",
        "      <td>         Denver Nuggets</td>\n",
        "      <td> 25</td>\n",
        "      <td> 20.0</td>\n",
        "      <td>   0.0</td>\n",
        "      <td> 15.720622</td>\n",
        "    </tr>\n",
        "    <tr>\n",
        "      <th>139</th>\n",
        "      <td>    Jordan</td>\n",
        "      <td>          Farmar</td>\n",
        "      <td>   Los Angeles Clippers</td>\n",
        "      <td> 28</td>\n",
        "      <td> 37.4</td>\n",
        "      <td>  43.8</td>\n",
        "      <td> 38.428600</td>\n",
        "    </tr>\n",
        "    <tr>\n",
        "      <th>140</th>\n",
        "      <td>     Vitor</td>\n",
        "      <td>        Faverani</td>\n",
        "      <td>         Boston Celtics</td>\n",
        "      <td> 25</td>\n",
        "      <td> 30.0</td>\n",
        "      <td>  30.0</td>\n",
        "      <td> 21.133920</td>\n",
        "    </tr>\n",
        "    <tr>\n",
        "      <th>141</th>\n",
        "      <td>   Derrick</td>\n",
        "      <td>          Favors</td>\n",
        "      <td>              Utah Jazz</td>\n",
        "      <td> 23</td>\n",
        "      <td>  0.0</td>\n",
        "      <td>   0.0</td>\n",
        "      <td>  5.470414</td>\n",
        "    </tr>\n",
        "    <tr>\n",
        "      <th>142</th>\n",
        "      <td>   Carrick</td>\n",
        "      <td>           Felix</td>\n",
        "      <td>              Utah Jazz</td>\n",
        "      <td> 24</td>\n",
        "      <td> 40.0</td>\n",
        "      <td>  40.0</td>\n",
        "      <td> 34.460547</td>\n",
        "    </tr>\n",
        "    <tr>\n",
        "      <th>143</th>\n",
        "      <td>   Raymond</td>\n",
        "      <td>          Felton</td>\n",
        "      <td>       Dallas Mavericks</td>\n",
        "      <td> 30</td>\n",
        "      <td> 33.2</td>\n",
        "      <td>  31.8</td>\n",
        "      <td> 32.732744</td>\n",
        "    </tr>\n",
        "    <tr>\n",
        "      <th>144</th>\n",
        "      <td>    Landry</td>\n",
        "      <td>          Fields</td>\n",
        "      <td>        Toronto Raptors</td>\n",
        "      <td> 26</td>\n",
        "      <td> 33.2</td>\n",
        "      <td>   0.0</td>\n",
        "      <td> 28.352797</td>\n",
        "    </tr>\n",
        "    <tr>\n",
        "      <th>145</th>\n",
        "      <td>      Evan</td>\n",
        "      <td>        Fournier</td>\n",
        "      <td>          Orlando Magic</td>\n",
        "      <td> 22</td>\n",
        "      <td> 38.4</td>\n",
        "      <td>  37.6</td>\n",
        "      <td> 37.958418</td>\n",
        "    </tr>\n",
        "    <tr>\n",
        "      <th>146</th>\n",
        "      <td>     Randy</td>\n",
        "      <td>            Foye</td>\n",
        "      <td>         Denver Nuggets</td>\n",
        "      <td> 31</td>\n",
        "      <td> 37.7</td>\n",
        "      <td>  38.0</td>\n",
        "      <td> 37.837783</td>\n",
        "    </tr>\n",
        "    <tr>\n",
        "      <th>147</th>\n",
        "      <td>    Jamaal</td>\n",
        "      <td>        Franklin</td>\n",
        "      <td>      Memphis Grizzlies</td>\n",
        "      <td> 23</td>\n",
        "      <td> 45.5</td>\n",
        "      <td>  45.5</td>\n",
        "      <td> 37.773252</td>\n",
        "    </tr>\n",
        "    <tr>\n",
        "      <th>148</th>\n",
        "      <td>    Jimmer</td>\n",
        "      <td>        Fredette</td>\n",
        "      <td>   New Orleans Pelicans</td>\n",
        "      <td> 25</td>\n",
        "      <td> 39.3</td>\n",
        "      <td>  47.6</td>\n",
        "      <td> 40.008178</td>\n",
        "    </tr>\n",
        "    <tr>\n",
        "      <th>149</th>\n",
        "      <td>      Joel</td>\n",
        "      <td>        Freeland</td>\n",
        "      <td> Portland Trail Blazers</td>\n",
        "      <td> 27</td>\n",
        "      <td>  0.0</td>\n",
        "      <td>   0.0</td>\n",
        "      <td>  1.754130</td>\n",
        "    </tr>\n",
        "  </tbody>\n",
        "</table>\n",
        "<p>150 rows \u00d7 7 columns</p>\n",
        "</div>"
       ],
       "metadata": {},
       "output_type": "pyout",
       "prompt_number": 102,
       "text": [
        "     firstname         lastname                lastteam  age  careerfg3perc  \\\n",
        "0       Quincy              Acy         New York Knicks   24           30.0   \n",
        "1       Steven            Adams   Oklahoma City Thunder   21            0.0   \n",
        "2         Jeff           Adrien  Minnesota Timberwolves   28            0.0   \n",
        "3        Arron          Afflalo          Denver Nuggets   29           38.8   \n",
        "4       Alexis           Ajinca    New Orleans Pelicans   26           32.4   \n",
        "5         Cole          Aldrich         New York Knicks   26            0.0   \n",
        "6     LaMarcus         Aldridge  Portland Trail Blazers   29           26.4   \n",
        "7        Lavoy            Allen          Indiana Pacers   25           14.3   \n",
        "8          Ray            Allen              Miami Heat   39           40.0   \n",
        "9         Tony            Allen       Memphis Grizzlies   32           26.2   \n",
        "10   Al-Farouq            Aminu        Dallas Mavericks   24           28.4   \n",
        "11         Lou         Amundson     Cleveland Cavaliers   32            0.0   \n",
        "12       Chris         Andersen              Miami Heat   36           17.9   \n",
        "13        Alan         Anderson           Brooklyn Nets   32           34.4   \n",
        "14       James         Anderson      Philadelphia 76ers   25           33.0   \n",
        "15        Ryan         Anderson    New Orleans Pelicans   26           38.1   \n",
        "16     Giannis    Antetokounmpo         Milwaukee Bucks   20           32.6   \n",
        "17     Carmelo          Anthony         New York Knicks   30           34.4   \n",
        "18        Joel          Anthony         Detroit Pistons   32            0.0   \n",
        "19        Pero            Antic           Atlanta Hawks   32           31.9   \n",
        "20      Trevor            Ariza         Houston Rockets   29           34.6   \n",
        "21      Hilton        Armstrong   Golden State Warriors   30           28.6   \n",
        "22     Darrell           Arthur          Denver Nuggets   26           30.7   \n",
        "23        Omer             Asik    New Orleans Pelicans   28            0.0   \n",
        "24     Gustavo             Ayon           Atlanta Hawks   28            0.0   \n",
        "25        Jeff            Ayres       San Antonio Spurs   27           50.0   \n",
        "26       Chris             Babb          Boston Celtics   24           22.2   \n",
        "27        Luke          Babbitt    New Orleans Pelicans   25           38.9   \n",
        "28     Leandro          Barbosa   Golden State Warriors   32           38.8   \n",
        "29      Andrea         Bargnani         New York Knicks   29           35.5   \n",
        "..         ...              ...                     ...  ...            ...   \n",
        "120       Luol             Deng              Miami Heat   29           33.2   \n",
        "121      Boris             Diaw       San Antonio Spurs   32           34.1   \n",
        "122     Gorgui            Dieng  Minnesota Timberwolves   24           50.0   \n",
        "123      Toney          Douglas              Miami Heat   28           35.3   \n",
        "124      Chris  Douglas-Roberts    Los Angeles Clippers   27           32.9   \n",
        "125      Goran           Dragic            Phoenix Suns   28           36.3   \n",
        "126      Andre         Drummond         Detroit Pistons   21           20.0   \n",
        "127      Jared           Dudley         Milwaukee Bucks   29           39.9   \n",
        "128        Tim           Duncan       San Antonio Spurs   38           17.5   \n",
        "129       Mike         Dunleavy           Chicago Bulls   34           37.4   \n",
        "130      Kevin           Durant   Oklahoma City Thunder   26           37.7   \n",
        "131      Shane          Edwards     Cleveland Cavaliers   27            0.0   \n",
        "132      Wayne        Ellington      Los Angeles Lakers   27           38.7   \n",
        "133      Monta            Ellis        Dallas Mavericks   29           31.9   \n",
        "134     Melvin              Ely      Washington Wizards   35            0.0   \n",
        "135     Jeremy            Evans               Utah Jazz   27            0.0   \n",
        "136     Reggie            Evans        Sacramento Kings   34            9.1   \n",
        "137     Tyreke            Evans    New Orleans Pelicans   25           27.1   \n",
        "138    Kenneth           Faried          Denver Nuggets   25           20.0   \n",
        "139     Jordan           Farmar    Los Angeles Clippers   28           37.4   \n",
        "140      Vitor         Faverani          Boston Celtics   25           30.0   \n",
        "141    Derrick           Favors               Utah Jazz   23            0.0   \n",
        "142    Carrick            Felix               Utah Jazz   24           40.0   \n",
        "143    Raymond           Felton        Dallas Mavericks   30           33.2   \n",
        "144     Landry           Fields         Toronto Raptors   26           33.2   \n",
        "145       Evan         Fournier           Orlando Magic   22           38.4   \n",
        "146      Randy             Foye          Denver Nuggets   31           37.7   \n",
        "147     Jamaal         Franklin       Memphis Grizzlies   23           45.5   \n",
        "148     Jimmer         Fredette    New Orleans Pelicans   25           39.3   \n",
        "149       Joel         Freeland  Portland Trail Blazers   27            0.0   \n",
        "\n",
        "     2013fg3perc  2014fg3perc  \n",
        "0           26.7    20.358254  \n",
        "1            0.0     2.790031  \n",
        "2            0.0     0.000000  \n",
        "3           42.7    35.053300  \n",
        "4            0.0    23.876600  \n",
        "5            0.0     3.241835  \n",
        "6           20.0    21.823143  \n",
        "7           15.4    10.578272  \n",
        "8           37.5    44.448905  \n",
        "9           23.4    20.548409  \n",
        "10          27.1    25.367762  \n",
        "11           0.0     0.000000  \n",
        "12          25.0     7.683561  \n",
        "13          33.9    29.458148  \n",
        "14          32.8    33.542143  \n",
        "15          40.9    43.337225  \n",
        "16          34.7    27.621929  \n",
        "17          40.2    33.361874  \n",
        "18           0.0     0.000000  \n",
        "19          32.7    25.427259  \n",
        "20          40.7    32.607046  \n",
        "21           0.0    16.245747  \n",
        "22          37.5    22.883193  \n",
        "23           0.0     0.000000  \n",
        "24           0.0     0.000000  \n",
        "25           0.0    32.723674  \n",
        "26          22.2    18.313360  \n",
        "27          37.9    39.249957  \n",
        "28          28.0    39.795999  \n",
        "29          27.8    33.649421  \n",
        "..           ...          ...  \n",
        "120         30.2    30.560460  \n",
        "121         40.2    27.057403  \n",
        "122        100.0    24.175202  \n",
        "123         30.4    37.940508  \n",
        "124         38.6    26.045532  \n",
        "125         40.8    34.130109  \n",
        "126          0.0    12.444344  \n",
        "127         36.0    35.110063  \n",
        "128          0.0    17.985112  \n",
        "129         38.0    35.818931  \n",
        "130         39.1    38.329539  \n",
        "131          0.0     0.000000  \n",
        "132         42.4    36.586476  \n",
        "133         33.0    31.676582  \n",
        "134          0.0     0.000000  \n",
        "135          0.0     2.911262  \n",
        "136          0.0     6.625410  \n",
        "137         22.1    26.175707  \n",
        "138          0.0    15.720622  \n",
        "139         43.8    38.428600  \n",
        "140         30.0    21.133920  \n",
        "141          0.0     5.470414  \n",
        "142         40.0    34.460547  \n",
        "143         31.8    32.732744  \n",
        "144          0.0    28.352797  \n",
        "145         37.6    37.958418  \n",
        "146         38.0    37.837783  \n",
        "147         45.5    37.773252  \n",
        "148         47.6    40.008178  \n",
        "149          0.0     1.754130  \n",
        "\n",
        "[150 rows x 7 columns]"
       ]
      }
     ],
     "prompt_number": 102
    },
    {
     "cell_type": "heading",
     "level": 2,
     "metadata": {},
     "source": [
      "Conclusion"
     ]
    },
    {
     "cell_type": "markdown",
     "metadata": {},
     "source": [
      "I finished with a model with $R^2$ of 0.55. The model seemed to predict pretty decently the more well-known players in the NBA and the players who shoot three's consistently. The model struggled with players that were relatively new to the NBA or have not played too many games. It also struggled with players that didn't shoot many three's or the many players who were forced to shoot one or two three's in their careers and have skewed career statistics due to a few lucky makes. Three point field goal percentage also seems to be one of the more variable statistics that one could predict about a player.\n",
      "\n",
      "Some assumptions that are faulty is the importance of the field goal percentage on the three point field goal percentage. I assumed that field goal percentage would help encapsulate those who were good at the mid-range jumpshot and therefore also show those who could have success beyond the arc. Some recent examples would be the moving of Pau Gasol to the three point line where he found moderate success, and somewhat Lamarcus Aldridge as well. Chris Bosh who had an elite mid range game also made the transition to the three point line quickly. This seems to be determined by the release of their shots as well, as those with set shots find less success beyond the arc than those with legitimate jumpshots. However, this initial approach failed to see how many of the centers in the NBA that do not even attempt three pointers have very high field goal percentage and the likelihood of this happening far outweights that of mid-range jump shooters moving out to the three point arc, as the mid-range game is known to be the lost art of modern basketball.\n",
      "\n",
      "There are many areas where I could improve on the model. The model is limited, like most models, by the amount of data that I could scrape off the internet. If the model were to get much more advanced, the model could somehow take into account the type of offense that each players plays in. For example, a system from a coach like Mike D'Antoni which emphasizes the three point shot might have higher percentages than those of a triangle offense or a princeton offense. The pace at which the player plays or whether or not they come off the bench also may have something to do with his percentages. The model could also definitely handle the extremes a lot better as it seemed confused with players that have not taken many three point attempts throughout their careers or a few players who have limited minutes that came in and made all of their three point shots. Some other statistics that would have been useful is the percentage of total shots taken being three point percentage, average distance of shot taken, proximity of defender, whether or not the primary way of scoring is by coming off screens, pick and pop, etc. and more."
     ]
    }
   ],
   "metadata": {}
  }
 ]
}